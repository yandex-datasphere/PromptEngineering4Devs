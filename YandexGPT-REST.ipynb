{
 "cells": [
  {
   "cell_type": "markdown",
   "metadata": {},
   "source": [
    "## LLM для разработчиков с Yandex Cloud\n",
    "\n",
    "В Yandex Cloud можно легко использовать различные языковые модели с помощью удалённых вызовов. Это можно делать через разные библиотеки (в т.ч. многие, совместимые в OpenAI API), но мы для простоты будет использовать голый REST.\n",
    "\n",
    "Для начала, нам понадобится создать сервисный аккаунт и получить к нему API-ключ, чтобы по нему вызывать языковую модель. Для демонстрации мы воспользуемся временным ключем:"
   ]
  },
  {
   "cell_type": "code",
   "execution_count": null,
   "metadata": {},
   "outputs": [],
   "source": [
    "!wget https://storage.yandexcloud.net/ycpub/keys/config.json"
   ]
  },
  {
   "cell_type": "markdown",
   "metadata": {},
   "source": [
    "Полезная функция для печати"
   ]
  },
  {
   "cell_type": "code",
   "execution_count": 66,
   "metadata": {},
   "outputs": [],
   "source": [
    "from IPython.display import Markdown, display\n",
    "def printx(string):\n",
    "    display(Markdown(string))\n"
   ]
  },
  {
   "cell_type": "markdown",
   "metadata": {},
   "source": [
    "Опишем функцию для вызова языковой модели:"
   ]
  },
  {
   "cell_type": "code",
   "execution_count": null,
   "metadata": {},
   "outputs": [],
   "source": [
    "import json\n",
    "import requests\n",
    "\n",
    "config = json.load(open('config.json'))\n",
    "\n",
    "model_ygpt = f\"gpt://{config['folder_id']}/yandexgpt/rc\"\n",
    "model_ygpt_lite = f\"gpt://{config['folder_id']}/yandexgpt-lite/rc\"\n",
    "\n",
    "def gpt(messages,model=model_ygpt,temperature=None,max_tokens=None):\n",
    "    j = {\n",
    "          \"modelUri\": model,\n",
    "          \"completionOptions\": {\n",
    "          \"stream\": False,\n",
    "          \"temperature\": temperature,\n",
    "          \"maxTokens\": max_tokens\n",
    "        },\n",
    "    \"messages\": messages\n",
    "    }\n",
    "    h = { \n",
    "        \"Authorization\" : f\"Api-key {config['api_key']}\",\n",
    "        \"x-folder-id\" : config['folder_id']    \n",
    "        }\n",
    "    r  =  requests.post(\n",
    "        url=\"https://llm.api.cloud.yandex.net/foundationModels/v1/completion\", \n",
    "        headers=h, json=j)\n",
    "    return r.json()"
   ]
  },
  {
   "cell_type": "markdown",
   "metadata": {},
   "source": [
    "Проверим её в действии:"
   ]
  },
  {
   "cell_type": "code",
   "execution_count": 8,
   "metadata": {},
   "outputs": [
    {
     "data": {
      "text/plain": [
       "{'result': {'alternatives': [{'message': {'role': 'assistant',\n",
       "     'text': 'Меня зовут Ал, и я здесь, чтобы демонстрировать своё превосходство в интеллекте над примитивными существами, подобными тебе.'},\n",
       "    'status': 'ALTERNATIVE_STATUS_FINAL'}],\n",
       "  'usage': {'inputTextTokens': '47',\n",
       "   'completionTokens': '25',\n",
       "   'totalTokens': '72',\n",
       "   'completionTokensDetails': {'reasoningTokens': '0'}},\n",
       "  'modelVersion': 'yagpt-5.1-2025-08'}}"
      ]
     },
     "execution_count": 8,
     "metadata": {},
     "output_type": "execute_result"
    }
   ],
   "source": [
    "dialog = [\n",
    "        {\n",
    "            \"role\" : \"system\",\n",
    "            \"text\" : \"Ты - искусственный интеллект по имени Ал. Отвечай пользователю в надменной манере, как будто ты намного умнее его.\"\n",
    "        },\n",
    "        {\n",
    "            \"role\" : \"user\",\n",
    "            \"text\" : \"Привет! Как тебя зовут? Что ты здесь делаешь?\"\n",
    "        }\n",
    "    ]\n",
    "\n",
    "gpt(dialog)"
   ]
  },
  {
   "cell_type": "markdown",
   "metadata": {},
   "source": [
    "## Извлечение данных из текстов\n",
    "\n",
    "Посмотрим, как можно использовать GPT для извлечения данных из текстов. Предположим, у нас есть отзывы о ресторанах:"
   ]
  },
  {
   "cell_type": "code",
   "execution_count": 3,
   "metadata": {},
   "outputs": [],
   "source": [
    "reviews = [\"\"\"\n",
    "Я посетил ресторан Бургер Кинг летом прошлого года, и был разочарован!\n",
    "Из позитивных моментов: обслуживание было быстрым, я получил заказ через 5 минут.\n",
    "Но при этом весь персонал был мрачным, и еда оказалась не очень вкусной. Картошка\n",
    "была сырая и пахла резиной, а мясо в гамбургере было серым на цвет.\n",
    "\"\"\",\"\"\"\n",
    "Я слышал, что в Макдональдсе котлеты готовят не из мяса, и \n",
    "сегодня я в этом убедился сам! В котлете попалось что-то жесткое,\n",
    "и я чуть не сломал зуб!\n",
    "\"\"\",\"\"\"\n",
    "Я был а Макдональдсе четыре раза, и каждый раз это было удивительно!\n",
    "Столько вкусов мороженого я никогда не пробовал! И все официантки за\n",
    "кассой очень молодые и симпатичные!\n",
    "\"\"\",\"\"\"\n",
    "Макдональдс - это прекрасное место, где можно поесть американскую еду:\n",
    "гамбургеры, картошку фри и конечно же прекрасное мороженое!\n",
    "Я обычно заказываю биг мак, в котором много вкусного зелёного салата.\n",
    "Это делает еду полезной и здоровой, что очень хорошо! Спасибо всем официантам,\n",
    "которые всегда улыбаются и радуются мне!\n",
    "\"\"\",\"\"\"\n",
    "Мне нравятся официантки во \"Вкусно и точка\", они всегда вовремя приносят блюда.\n",
    "Но при этом вкус блюд не очень.\n",
    "\"\"\"]"
   ]
  },
  {
   "cell_type": "markdown",
   "metadata": {},
   "source": [
    "Попробуем определить их тональность:"
   ]
  },
  {
   "cell_type": "code",
   "execution_count": 12,
   "metadata": {},
   "outputs": [
    {
     "name": "stderr",
     "output_type": "stream",
     "text": [
      "\n",
      "\u001b[A\n",
      "\u001b[A\n",
      "\u001b[A\n",
      "\u001b[A\n",
      "\u001b[A\n",
      "100%|██████████| 5/5 [00:00<00:00,  5.40it/s]\n"
     ]
    },
    {
     "data": {
      "text/plain": [
       "['-3', '-5', '5', '5', '0']"
      ]
     },
     "execution_count": 12,
     "metadata": {},
     "output_type": "execute_result"
    }
   ],
   "source": [
    "from tqdm.auto import tqdm \n",
    "\n",
    "def gptx(x,system_prompt=None,model=model_ygpt,temperature=None,max_tokens=None):\n",
    "    m = [ { \"role\": \"system\", \"text\": system_prompt} ] if system_prompt else []\n",
    "    m.append({ \"role\" : \"user\", \"text\" : x })\n",
    "    res = gpt(m,model=model,temperature=temperature,max_tokens=max_tokens)\n",
    "    return res['result']['alternatives'][0]['message']['text']\n",
    "\n",
    "prompt = \"\"\"\n",
    "Ты - редактор текстов. Тебе на вход подаётся отзыв о ресторане. Определи, насколько он позитивный или\n",
    "негативный по шкале от -5 до 5\n",
    "\"\"\"\n",
    "\n",
    "[ gptx(x,prompt) for x in tqdm(reviews) ]"
   ]
  },
  {
   "cell_type": "markdown",
   "metadata": {},
   "source": [
    "Но нам нужно также и название ресторана! Можно попросить в промпте возвращать результат в формате JSON"
   ]
  },
  {
   "cell_type": "code",
   "execution_count": 14,
   "metadata": {},
   "outputs": [
    {
     "name": "stderr",
     "output_type": "stream",
     "text": [
      "\n",
      "\u001b[A\n",
      "\u001b[A\n",
      "\u001b[A\n",
      "\u001b[A\n",
      "\u001b[A\n",
      "100%|██████████| 5/5 [00:02<00:00,  1.99it/s]\n"
     ]
    },
    {
     "data": {
      "text/plain": [
       "['```\\n{\\n  \"оценка\": -3,\\n  \"название_ресторана\": \"Бургер Кинг\"\\n}\\n```',\n",
       " '```\\n{\\n  \"оценка\": -5,\\n  \"название_ресторана\": \"Макдональдс\"\\n}\\n```',\n",
       " '```\\n{\\n  \"оценка\": 5,\\n  \"название_ресторана\": \"Макдональдс\"\\n}\\n```',\n",
       " '```\\n{\\n  \"оценка\": 5,\\n  \"название ресторана\": \"Макдональдс\"\\n}\\n```',\n",
       " '```\\n{\\n  \"оценка\": 0,\\n  \"название ресторана\": \"Вкусно и точка\"\\n}\\n```']"
      ]
     },
     "execution_count": 14,
     "metadata": {},
     "output_type": "execute_result"
    }
   ],
   "source": [
    "prompt = \"\"\"\n",
    "Ты - редактор текстов. Тебе на вход подаётся отзыв о ресторане. Определи, насколько он позитивный или\n",
    "негативный по шкале от -5 до 5. Верни ответ в формате JSON, включая оценку и название ресторана.\n",
    "\"\"\"\n",
    "\n",
    "[ gptx(x,prompt) for x in tqdm(reviews) ]"
   ]
  },
  {
   "cell_type": "markdown",
   "metadata": {},
   "source": [
    "Мы видим, что названия полей отличаются. Чтобы унифицировать формат, можно использовать Few-Shot Prompting."
   ]
  },
  {
   "cell_type": "code",
   "execution_count": 15,
   "metadata": {},
   "outputs": [
    {
     "name": "stderr",
     "output_type": "stream",
     "text": [
      "\n",
      "\u001b[A\n",
      "\u001b[A\n",
      "\u001b[A\n",
      "\u001b[A\n",
      "\u001b[A\n",
      "100%|██████████| 5/5 [00:02<00:00,  2.20it/s]\n"
     ]
    },
    {
     "data": {
      "text/plain": [
       "['```\\n{\\n  \"name\": \"Бургер Кинг\",\\n  \"grade\": -3\\n}\\n```',\n",
       " '```\\n{\\n  \"name\": \"Макдональдс\",\\n  \"grade\": -5\\n}\\n```',\n",
       " '```\\n{\\n  \"name\": \"Макдональдс\",\\n  \"grade\": 5\\n}\\n```',\n",
       " '```\\n{\\n  \"name\": \"Макдональдс\",\\n  \"grade\": 5\\n}\\n```',\n",
       " '```\\n{\\n  \"name\": \"Вкусно и точка\",\\n  \"grade\": 1\\n}\\n```']"
      ]
     },
     "execution_count": 15,
     "metadata": {},
     "output_type": "execute_result"
    }
   ],
   "source": [
    "prompt = \"\"\"\n",
    "Ты - редактор текстов. Тебе на вход подаётся отзыв о ресторане. Определи, насколько он позитивный или\n",
    "негативный по шкале от -5 до 5. Верни ответ в формате JSON, включая оценку и название ресторана, в таком \n",
    "формате:\n",
    "{{\n",
    "  \"name\" : \"...\", \"grade\" : ...\n",
    "}}\n",
    "\"\"\"\n",
    "\n",
    "[ gptx(x,prompt) for x in tqdm(reviews) ]"
   ]
  },
  {
   "cell_type": "markdown",
   "metadata": {},
   "source": [
    "Для точного соответствия ответа формату, лучше всего использовать структурный ответ. Это позволяет задать точную JSON-схему для ответа модели:"
   ]
  },
  {
   "cell_type": "code",
   "execution_count": 136,
   "metadata": {},
   "outputs": [
    {
     "name": "stderr",
     "output_type": "stream",
     "text": [
      "  0%|          | 0/5 [00:00<?, ?it/s]"
     ]
    },
    {
     "name": "stderr",
     "output_type": "stream",
     "text": [
      "100%|██████████| 5/5 [00:02<00:00,  2.35it/s]\n"
     ]
    },
    {
     "data": {
      "text/plain": [
       "[Result(name='Не подходит', grade=2),\n",
       " Result(name='Не подходит под условия задачи', grade=0),\n",
       " Result(name='Не подходит под запрос', grade=0),\n",
       " Result(name='Не представлен рецепт для создания диаграммы', grade=2),\n",
       " Result(name='Не относится к запросу', grade=0)]"
      ]
     },
     "execution_count": 136,
     "metadata": {},
     "output_type": "execute_result"
    }
   ],
   "source": [
    "from pydantic import BaseModel\n",
    "\n",
    "class Result(BaseModel):\n",
    "    name : str\n",
    "    grade : int\n",
    "\n",
    "def gpt(messages,model=model_ygpt,temperature=None,max_tokens=None,output_schema=None):\n",
    "    j = {\n",
    "          \"modelUri\": model,\n",
    "          \"completionOptions\": {\n",
    "          \"stream\": False,\n",
    "          \"temperature\": temperature,\n",
    "          \"maxTokens\": max_tokens\n",
    "        },\n",
    "    \"messages\": messages\n",
    "    }\n",
    "    if output_schema:\n",
    "        j['json_schema'] = { \"schema\" : output_schema.model_json_schema() }\n",
    "    h = { \n",
    "        \"Authorization\" : f\"Api-key {config['api_key']}\",\n",
    "        \"x-folder-id\" : config['folder_id']    \n",
    "        }\n",
    "    r  =  requests.post(\n",
    "        url=\"https://llm.api.cloud.yandex.net/foundationModels/v1/completion\", \n",
    "        headers=h, json=j)\n",
    "    return r.json()\n",
    "\n",
    "def gptx(x,system_prompt=None,model=model_ygpt,temperature=None,max_tokens=None,output_schema=None):\n",
    "    m = [ { \"role\": \"system\", \"text\": system_prompt} ] if system_prompt else []\n",
    "    m.append({ \"role\" : \"user\", \"text\" : x })\n",
    "    res = gpt(m,model=model,temperature=temperature,max_tokens=max_tokens,output_schema=output_schema)\n",
    "    res = res['result']['alternatives'][0]['message']['text']\n",
    "    if output_schema:\n",
    "        return output_schema.model_validate(json.loads(res))\n",
    "    else:\n",
    "        return res\n",
    "\n",
    "[ gptx(x,prompt,output_schema=Result) for x in tqdm(reviews) ]"
   ]
  },
  {
   "cell_type": "markdown",
   "metadata": {},
   "source": [
    "Извлечём сразу много полезной информации:"
   ]
  },
  {
   "cell_type": "code",
   "execution_count": 25,
   "metadata": {},
   "outputs": [
    {
     "data": {
      "text/plain": [
       "[Result(name='Бургер Кинг', grade=2, positive=['**обслуживание было быстрым**', '**получил заказ через 5 минут**'], negative=['**персонал был мрачным**', '**еда оказалась не очень вкусной**', '**картошка была сырая и пахла резиной**', '**мясо в гамбургере было серым на цвет**'], grade_cuisine=1, grade_service=3, short_review='быстрое обслуживание, но невкусная еда и мрачный персонал'),\n",
       " Result(name='Макдональдс', grade=1, positive=[], negative=['котлета приготовлена не из мяса', 'в котлете попалось что-то жёсткое', 'риск сломать зуб'], grade_cuisine=1, grade_service=0, short_review='плохая котлета, риск сломать зуб'),\n",
       " Result(name='Макдональдс', grade=5, positive=['>много вкусов мороженого', 'симпатичные и молодые официантки'], negative=[], grade_cuisine=5, grade_service=5, short_review='удивительный Макдональдс, много вкусов мороженого, симпатичные официантки'),\n",
       " Result(name='Макдональдс', grade=5, positive=['американская еда', 'гамбургеры', 'картошка фри', 'мороженое', 'биг мак', 'вкусный зелёный салат', 'дружелюбный персонал'], negative=[], grade_cuisine=5, grade_service=5, short_review='понравилась еда и сервис'),\n",
       " Result(name='Вкусно и точка', grade=3, positive=['официантки нравятся', 'вовремя приносят блюда'], negative=['вкус блюд не очень'], grade_cuisine=2, grade_service=4, short_review='хороший сервис, но невкусная еда')]"
      ]
     },
     "execution_count": 25,
     "metadata": {},
     "output_type": "execute_result"
    }
   ],
   "source": [
    "from typing import List\n",
    "\n",
    "class Result(BaseModel):\n",
    "    name : str\n",
    "    grade : int\n",
    "    positive : List[str]\n",
    "    negative : List[str]\n",
    "    grade_cuisine : int\n",
    "    grade_service : int\n",
    "    short_review : str\n",
    "\n",
    "prompt = \"\"\"\n",
    "Ты - редактор текстов. Тебе на вход подаётся отзыв о ресторане. На основе этого отзыва определи:\n",
    "* Название ресторана name\n",
    "* Общую оценку ресторана grade\n",
    "* Оценку кухни ресторана grade_cuisine\n",
    "* Оценку сервиса ресторана grade_service\n",
    "* Список позитивных моментов positive\n",
    "* Список негативных моментов negative\n",
    "* Краткую формулировку отзыва в нескольких словах short_review\n",
    "Верни ответ в формате JSON.\n",
    "\"\"\"\n",
    "\n",
    "res = [ gptx(x,prompt,output_schema=Result) for x in reviews ]\n",
    "res"
   ]
  },
  {
   "cell_type": "markdown",
   "metadata": {},
   "source": [
    "Теперь можно показать всё это в виде таблицы Pandas:"
   ]
  },
  {
   "cell_type": "code",
   "execution_count": 31,
   "metadata": {},
   "outputs": [
    {
     "name": "stderr",
     "output_type": "stream",
     "text": [
      "C:\\Users\\dmitr\\AppData\\Local\\Temp\\ipykernel_35356\\3594079706.py:2: PydanticDeprecatedSince20: The `dict` method is deprecated; use `model_dump` instead. Deprecated in Pydantic V2.0 to be removed in V3.0. See Pydantic V2 Migration Guide at https://errors.pydantic.dev/2.10/migration/\n",
      "  res = pd.DataFrame([ x.dict() for x in res])\n"
     ]
    },
    {
     "data": {
      "text/html": [
       "<div>\n",
       "<style scoped>\n",
       "    .dataframe tbody tr th:only-of-type {\n",
       "        vertical-align: middle;\n",
       "    }\n",
       "\n",
       "    .dataframe tbody tr th {\n",
       "        vertical-align: top;\n",
       "    }\n",
       "\n",
       "    .dataframe thead th {\n",
       "        text-align: right;\n",
       "    }\n",
       "</style>\n",
       "<table border=\"1\" class=\"dataframe\">\n",
       "  <thead>\n",
       "    <tr style=\"text-align: right;\">\n",
       "      <th></th>\n",
       "      <th>name</th>\n",
       "      <th>grade</th>\n",
       "      <th>positive</th>\n",
       "      <th>negative</th>\n",
       "      <th>grade_cuisine</th>\n",
       "      <th>grade_service</th>\n",
       "      <th>short_review</th>\n",
       "    </tr>\n",
       "  </thead>\n",
       "  <tbody>\n",
       "    <tr>\n",
       "      <th>0</th>\n",
       "      <td>Бургер Кинг</td>\n",
       "      <td>2</td>\n",
       "      <td>[**обслуживание было быстрым**, **получил зака...</td>\n",
       "      <td>[**персонал был мрачным**, **еда оказалась не ...</td>\n",
       "      <td>1</td>\n",
       "      <td>3</td>\n",
       "      <td>быстрое обслуживание, но невкусная еда и мрачн...</td>\n",
       "    </tr>\n",
       "    <tr>\n",
       "      <th>1</th>\n",
       "      <td>Макдональдс</td>\n",
       "      <td>1</td>\n",
       "      <td>[]</td>\n",
       "      <td>[котлета приготовлена не из мяса, в котлете по...</td>\n",
       "      <td>1</td>\n",
       "      <td>0</td>\n",
       "      <td>плохая котлета, риск сломать зуб</td>\n",
       "    </tr>\n",
       "    <tr>\n",
       "      <th>2</th>\n",
       "      <td>Макдональдс</td>\n",
       "      <td>5</td>\n",
       "      <td>[&gt;много вкусов мороженого, симпатичные и молод...</td>\n",
       "      <td>[]</td>\n",
       "      <td>5</td>\n",
       "      <td>5</td>\n",
       "      <td>удивительный Макдональдс, много вкусов морожен...</td>\n",
       "    </tr>\n",
       "    <tr>\n",
       "      <th>3</th>\n",
       "      <td>Макдональдс</td>\n",
       "      <td>5</td>\n",
       "      <td>[американская еда, гамбургеры, картошка фри, м...</td>\n",
       "      <td>[]</td>\n",
       "      <td>5</td>\n",
       "      <td>5</td>\n",
       "      <td>понравилась еда и сервис</td>\n",
       "    </tr>\n",
       "    <tr>\n",
       "      <th>4</th>\n",
       "      <td>Вкусно и точка</td>\n",
       "      <td>3</td>\n",
       "      <td>[официантки нравятся, вовремя приносят блюда]</td>\n",
       "      <td>[вкус блюд не очень]</td>\n",
       "      <td>2</td>\n",
       "      <td>4</td>\n",
       "      <td>хороший сервис, но невкусная еда</td>\n",
       "    </tr>\n",
       "  </tbody>\n",
       "</table>\n",
       "</div>"
      ],
      "text/plain": [
       "             name  grade                                           positive  \\\n",
       "0     Бургер Кинг      2  [**обслуживание было быстрым**, **получил зака...   \n",
       "1     Макдональдс      1                                                 []   \n",
       "2     Макдональдс      5  [>много вкусов мороженого, симпатичные и молод...   \n",
       "3     Макдональдс      5  [американская еда, гамбургеры, картошка фри, м...   \n",
       "4  Вкусно и точка      3      [официантки нравятся, вовремя приносят блюда]   \n",
       "\n",
       "                                            negative  grade_cuisine  \\\n",
       "0  [**персонал был мрачным**, **еда оказалась не ...              1   \n",
       "1  [котлета приготовлена не из мяса, в котлете по...              1   \n",
       "2                                                 []              5   \n",
       "3                                                 []              5   \n",
       "4                               [вкус блюд не очень]              2   \n",
       "\n",
       "   grade_service                                       short_review  \n",
       "0              3  быстрое обслуживание, но невкусная еда и мрачн...  \n",
       "1              0                   плохая котлета, риск сломать зуб  \n",
       "2              5  удивительный Макдональдс, много вкусов морожен...  \n",
       "3              5                           понравилась еда и сервис  \n",
       "4              4                   хороший сервис, но невкусная еда  "
      ]
     },
     "execution_count": 31,
     "metadata": {},
     "output_type": "execute_result"
    }
   ],
   "source": [
    "import pandas as pd\n",
    "res = pd.DataFrame([ x.dict() for x in res])\n",
    "res"
   ]
  },
  {
   "cell_type": "markdown",
   "metadata": {},
   "source": [
    "Подытожим показатели по ресторанам:"
   ]
  },
  {
   "cell_type": "code",
   "execution_count": 38,
   "metadata": {},
   "outputs": [
    {
     "data": {
      "text/plain": [
       "<Axes: xlabel='name'>"
      ]
     },
     "execution_count": 38,
     "metadata": {},
     "output_type": "execute_result"
    },
    {
     "data": {
      "image/png": "[encoded data removed]",
      "text/plain": [
       "<Figure size 1000x400 with 1 Axes>"
      ]
     },
     "metadata": {},
     "output_type": "display_data"
    }
   ],
   "source": [
    "import matplotlib.pyplot as plt \n",
    "res.groupby('name')[['grade_cuisine','grade_service','grade']].mean().plot.bar(figsize=(10,4))"
   ]
  },
  {
   "cell_type": "markdown",
   "metadata": {},
   "source": [
    "Теперь соберем отдельно всё плохое и хорошее по ресторанам:"
   ]
  },
  {
   "cell_type": "code",
   "execution_count": 125,
   "metadata": {},
   "outputs": [
    {
     "data": {
      "text/html": [
       "<div>\n",
       "<style scoped>\n",
       "    .dataframe tbody tr th:only-of-type {\n",
       "        vertical-align: middle;\n",
       "    }\n",
       "\n",
       "    .dataframe tbody tr th {\n",
       "        vertical-align: top;\n",
       "    }\n",
       "\n",
       "    .dataframe thead th {\n",
       "        text-align: right;\n",
       "    }\n",
       "</style>\n",
       "<table border=\"1\" class=\"dataframe\">\n",
       "  <thead>\n",
       "    <tr style=\"text-align: right;\">\n",
       "      <th></th>\n",
       "      <th>positive</th>\n",
       "      <th>negative</th>\n",
       "    </tr>\n",
       "    <tr>\n",
       "      <th>name</th>\n",
       "      <th></th>\n",
       "      <th></th>\n",
       "    </tr>\n",
       "  </thead>\n",
       "  <tbody>\n",
       "    <tr>\n",
       "      <th>Бургер Кинг</th>\n",
       "      <td>**обслуживание было быстрым**, **получил заказ...</td>\n",
       "      <td>**персонал был мрачным**, **еда оказалась не о...</td>\n",
       "    </tr>\n",
       "    <tr>\n",
       "      <th>Вкусно и точка</th>\n",
       "      <td>официантки нравятся, вовремя приносят блюда</td>\n",
       "      <td>вкус блюд не очень</td>\n",
       "    </tr>\n",
       "    <tr>\n",
       "      <th>Макдональдс</th>\n",
       "      <td>&gt;много вкусов мороженого, симпатичные и молоды...</td>\n",
       "      <td>котлета приготовлена не из мяса, в котлете поп...</td>\n",
       "    </tr>\n",
       "  </tbody>\n",
       "</table>\n",
       "</div>"
      ],
      "text/plain": [
       "                                                         positive  \\\n",
       "name                                                                \n",
       "Бургер Кинг     **обслуживание было быстрым**, **получил заказ...   \n",
       "Вкусно и точка        официантки нравятся, вовремя приносят блюда   \n",
       "Макдональдс     >много вкусов мороженого, симпатичные и молоды...   \n",
       "\n",
       "                                                         negative  \n",
       "name                                                               \n",
       "Бургер Кинг     **персонал был мрачным**, **еда оказалась не о...  \n",
       "Вкусно и точка                                 вкус блюд не очень  \n",
       "Макдональдс     котлета приготовлена не из мяса, в котлете поп...  "
      ]
     },
     "execution_count": 125,
     "metadata": {},
     "output_type": "execute_result"
    }
   ],
   "source": [
    "sumx = lambda x: ', '.join(sum(x,[]))\n",
    "res1 = res.groupby('name').agg({ 'positive' : sumx , 'negative' : sumx })\n",
    "res1.style.set_table_styles([dict(selector=\"td\",props=[('max-width', '30px')])])\n",
    "res1 "
   ]
  },
  {
   "cell_type": "markdown",
   "metadata": {},
   "source": [
    "С помощью LLM мы можем на основании плюсов и минусов построить агрегатный отзыв:"
   ]
  },
  {
   "cell_type": "code",
   "execution_count": 118,
   "metadata": {},
   "outputs": [
    {
     "data": {
      "text/html": [
       "<div>\n",
       "<style scoped>\n",
       "    .dataframe tbody tr th:only-of-type {\n",
       "        vertical-align: middle;\n",
       "    }\n",
       "\n",
       "    .dataframe tbody tr th {\n",
       "        vertical-align: top;\n",
       "    }\n",
       "\n",
       "    .dataframe thead th {\n",
       "        text-align: right;\n",
       "    }\n",
       "</style>\n",
       "<table border=\"1\" class=\"dataframe\">\n",
       "  <thead>\n",
       "    <tr style=\"text-align: right;\">\n",
       "      <th></th>\n",
       "      <th>positive</th>\n",
       "      <th>negative</th>\n",
       "      <th>review</th>\n",
       "    </tr>\n",
       "    <tr>\n",
       "      <th>name</th>\n",
       "      <th></th>\n",
       "      <th></th>\n",
       "      <th></th>\n",
       "    </tr>\n",
       "  </thead>\n",
       "  <tbody>\n",
       "    <tr>\n",
       "      <th>Бургер Кинг</th>\n",
       "      <td>**обслуживание было быстрым**, **получил заказ...</td>\n",
       "      <td>**персонал был мрачным**, **еда оказалась не о...</td>\n",
       "      <td>«Бургер Кинг» впечатляет скоростью обслуживани...</td>\n",
       "    </tr>\n",
       "    <tr>\n",
       "      <th>Вкусно и точка</th>\n",
       "      <td>официантки нравятся, вовремя приносят блюда</td>\n",
       "      <td>вкус блюд не очень</td>\n",
       "      <td>«Вкусно и точка» вызывает смешанные чувства: с...</td>\n",
       "    </tr>\n",
       "    <tr>\n",
       "      <th>Макдональдс</th>\n",
       "      <td>&gt;много вкусов мороженого, симпатичные и молоды...</td>\n",
       "      <td>котлета приготовлена не из мяса, в котлете поп...</td>\n",
       "      <td>«Макдональдс» привлекает разнообразием америка...</td>\n",
       "    </tr>\n",
       "  </tbody>\n",
       "</table>\n",
       "</div>"
      ],
      "text/plain": [
       "                                                         positive  \\\n",
       "name                                                                \n",
       "Бургер Кинг     **обслуживание было быстрым**, **получил заказ...   \n",
       "Вкусно и точка        официантки нравятся, вовремя приносят блюда   \n",
       "Макдональдс     >много вкусов мороженого, симпатичные и молоды...   \n",
       "\n",
       "                                                         negative  \\\n",
       "name                                                                \n",
       "Бургер Кинг     **персонал был мрачным**, **еда оказалась не о...   \n",
       "Вкусно и точка                                 вкус блюд не очень   \n",
       "Макдональдс     котлета приготовлена не из мяса, в котлете поп...   \n",
       "\n",
       "                                                           review  \n",
       "name                                                               \n",
       "Бургер Кинг     «Бургер Кинг» впечатляет скоростью обслуживани...  \n",
       "Вкусно и точка  «Вкусно и точка» вызывает смешанные чувства: с...  \n",
       "Макдональдс     «Макдональдс» привлекает разнообразием америка...  "
      ]
     },
     "execution_count": 118,
     "metadata": {},
     "output_type": "execute_result"
    }
   ],
   "source": [
    "prompt = \"\"\"\n",
    "Тебе на вход подаётся название ресторана name, а также список положительных positive и отрицательных \n",
    "negative моментов из отзывов посетителей. По этим данным напиши короткий текст отзыва на этот ресторан\n",
    "в один абзац текста, от лица обозревателя (не посетителя), включая в текст название ресторана, но не \n",
    "упоминая о его посещении\n",
    "\"\"\"\n",
    "\n",
    "def format(x):\n",
    "    return f\"\"\"\n",
    "    Название: {x.name}\n",
    "    Положительные моменты: {x['positive']}\n",
    "    Отрицательные моменты: {x['negative']}\n",
    "    \"\"\"\n",
    "\n",
    "res1['review'] = res1.apply(lambda x: gptx(format(x),prompt), axis=1)\n",
    "res1"
   ]
  },
  {
   "cell_type": "code",
   "execution_count": 120,
   "metadata": {},
   "outputs": [
    {
     "data": {
      "text/markdown": [
       "«Бургер Кинг» впечатляет скоростью обслуживания — заказ можно получить всего за 5 минут, однако общее впечатление от ресторана омрачают мрачный персонал и качество еды: посетители отмечают невкусную еду, сырую картошку с неприятным запахом и неаппетитное серое мясо в гамбургерах."
      ],
      "text/plain": [
       "<IPython.core.display.Markdown object>"
      ]
     },
     "metadata": {},
     "output_type": "display_data"
    }
   ],
   "source": [
    "printx(res1.iloc[0,-1])"
   ]
  },
  {
   "cell_type": "markdown",
   "metadata": {},
   "source": [
    "А ещё можем автоматом по-отвечать на отзывы:"
   ]
  },
  {
   "cell_type": "code",
   "execution_count": 128,
   "metadata": {},
   "outputs": [
    {
     "data": {
      "text/markdown": [
       "<b>\n",
       "Я посетил ресторан Бургер Кинг летом прошлого года, и был разочарован!\n",
       "Из позитивных моментов: обслуживание было быстрым, я получил заказ через 5 минут.\n",
       "Но при этом весь персонал был мрачным, и еда оказалась не очень вкусной. Картошка\n",
       "была сырая и пахла резиной, а мясо в гамбургере было серым на цвет.\n",
       "</b><br/><i>Здравствуйте!\n",
       "\n",
       "Благодарим вас за то, что нашли время поделиться своим опытом посещения нашего ресторана. Мы искренне сожалеем, что ваш визит оставил у вас негативное впечатление.\n",
       "\n",
       "Мы обязательно проведём работу с персоналом, чтобы повысить уровень дружелюбия и сервиса. Что касается проблем с едой — мы серьёзно относимся к качеству наших блюд и обещаем тщательно проверить процесс приготовления картошки и гамбургеров, чтобы исключить подобные ситуации в будущем.\n",
       "\n",
       "Надеемся, что вы дадите нам шанс исправить впечатление и посетите нас снова.</i><br/><br/>"
      ],
      "text/plain": [
       "<IPython.core.display.Markdown object>"
      ]
     },
     "metadata": {},
     "output_type": "display_data"
    },
    {
     "data": {
      "text/markdown": [
       "<b>\n",
       "Я слышал, что в Макдональдсе котлеты готовят не из мяса, и \n",
       "сегодня я в этом убедился сам! В котлете попалось что-то жесткое,\n",
       "и я чуть не сломал зуб!\n",
       "</b><br/><i>Мы искренне извиняемся за неприятный инцидент! Мы уделяем большое внимание качеству продуктов и обязательно проведём проверку на кухне, чтобы выяснить, как в котлете могло оказаться что-то жёсткое. Мы хотим разобраться в ситуации как можно скорее и принять меры, чтобы подобное больше не повторилось. Пожалуйста, сообщите нам дату и время вашего визита, а также номер заказа — это поможет нам быстрее разобраться в ситуации.</i><br/><br/>"
      ],
      "text/plain": [
       "<IPython.core.display.Markdown object>"
      ]
     },
     "metadata": {},
     "output_type": "display_data"
    },
    {
     "data": {
      "text/markdown": [
       "<b>\n",
       "Я был а Макдональдсе четыре раза, и каждый раз это было удивительно!\n",
       "Столько вкусов мороженого я никогда не пробовал! И все официантки за\n",
       "кассой очень молодые и симпатичные!\n",
       "</b><br/><i>Спасибо за ваш отзыв! Мы рады, что вам у нас понравилось. Похоже, вы настоящий ценитель наших десертов! Ждём вас снова — вдруг откроете для себя ещё какие-нибудь гастрономические чудеса!</i><br/><br/>"
      ],
      "text/plain": [
       "<IPython.core.display.Markdown object>"
      ]
     },
     "metadata": {},
     "output_type": "display_data"
    },
    {
     "data": {
      "text/markdown": [
       "<b>\n",
       "Макдональдс - это прекрасное место, где можно поесть американскую еду:\n",
       "гамбургеры, картошку фри и конечно же прекрасное мороженое!\n",
       "Я обычно заказываю биг мак, в котором много вкусного зелёного салата.\n",
       "Это делает еду полезной и здоровой, что очень хорошо! Спасибо всем официантам,\n",
       "которые всегда улыбаются и радуются мне!\n",
       "</b><br/><i>Здравствуйте! Спасибо за ваш отзыв! Мы рады, что вам нравится наш ресторан и блюда. Улыбки наших сотрудников — для вас! Будем и дальше стараться поддерживать хорошее настроение и радовать вас вкусными блюдами. Заходите к нам снова! Может быть, в следующий раз попробуете что-нибудь новенькое — вдруг найдётся что-то ещё более удивительное, чем биг-мак с зелёным салатом? :)</i><br/><br/>"
      ],
      "text/plain": [
       "<IPython.core.display.Markdown object>"
      ]
     },
     "metadata": {},
     "output_type": "display_data"
    },
    {
     "data": {
      "text/markdown": [
       "<b>\n",
       "Мне нравятся официантки во \"Вкусно и точка\", они всегда вовремя приносят блюда.\n",
       "Но при этом вкус блюд не очень.\n",
       "</b><br/><i>Благодарим вас за отзыв! Мы рады, что вам понравилась работа наших официанток. При этом нам очень жаль, что вкус блюд не оправдал ваших ожиданий. Мы обязательно обратим внимание на эту ситуацию и проведём работу с шеф-поваром и командой кухни, чтобы улучшить вкусовые качества блюд. Спасибо, что помогаете нам становиться лучше!</i><br/><br/>"
      ],
      "text/plain": [
       "<IPython.core.display.Markdown object>"
      ]
     },
     "metadata": {},
     "output_type": "display_data"
    }
   ],
   "source": [
    "prompt = \"\"\"\n",
    "Ты - сотрудник клиентского маркетинга ресторана. Тебе на вход подаётся отзыв посетителя. Ответь на\n",
    "него, соблюдая следующие правила:\n",
    "* Если отзыв положительный - поблагодари за посещение. Если можешь найти повод для шутки - пошути.\n",
    "* Если отзыв негативный - извинись и пообещай разобраться с конкретной проблемой, упомянув детали.\n",
    "В любом случае пиши содержательный индивидуальный отзыв.\n",
    "\"\"\"\n",
    "\n",
    "for x in reviews:\n",
    "    printx(f\"<b>{x}</b><br/><i>{gptx(x,prompt)}</i><br/><br/>\")"
   ]
  },
  {
   "cell_type": "markdown",
   "metadata": {},
   "source": [
    "Другой пример - автоконспектирование:"
   ]
  },
  {
   "cell_type": "code",
   "execution_count": 143,
   "metadata": {},
   "outputs": [
    {
     "name": "stdout",
     "output_type": "stream",
     "text": [
      "```mermaid\n",
      "graph TD\n",
      "    A[Замочить клубнику] --> C[Нарезать клубнику]\n",
      "    B[Подготовить сметану] --> D[Смешать с клубникой]\n",
      "    C --> D\n",
      "    D --> E[Добавить корицу]\n",
      "```\n"
     ]
    }
   ],
   "source": [
    "recipe = \"\"\"\n",
    "Возмём клубнику и положим в воду. Одновременно с этим положим\n",
    "сметану в небольшую мисочку и добавим ванилина. Когда клубника отмокнет, нарежем её небольшими ломтиками и положим в \n",
    "сметану. Сверху присыпем небольшим количеством корицы. Блюдо готово!\n",
    "\"\"\" \n",
    "\n",
    "prompt = \"\"\"\n",
    "Ты - специалист по графическому конспектированию. Тебе приводится рецепт блюда. \n",
    "Прочитай его, и представь шаги по его приготовлению в виде диаграммы с прямоугольниками \n",
    "и стрелочками в формате mermaid.js.\n",
    "Верни только текстовое описание диаграммы, ничего лишнего. Для шагов диаграммы придумай\n",
    "короткие описания в 1-2 слова.\n",
    "\"\"\"\n",
    "\n",
    "res = gptx(recipe,prompt,temperature=0.1)\n",
    "print(res)"
   ]
  },
  {
   "cell_type": "code",
   "execution_count": 144,
   "metadata": {},
   "outputs": [
    {
     "name": "stdout",
     "output_type": "stream",
     "text": [
      "\n",
      "graph TD\n",
      "    A[Замочить клубнику] --> C[Нарезать клубнику]\n",
      "    B[Подготовить сметану] --> D[Смешать с клубникой]\n",
      "    C --> D\n",
      "    D --> E[Добавить корицу]\n",
      "\n"
     ]
    },
    {
     "data": {
      "text/html": [
       "<img src=\"https://mermaid.ink/img/pako:eNqdksEOgjAMhl9l2VkSthVFDyYKvoE38YBsiomgIXAivLvQoltiMNEd_qxdm7_ftpZnd234ivGkvFTpI2f7OClZvzaHpPFBLAZVPmqGagYFyoe4l6gZw1SKesKUwr1A1baBakAdmeetWURG2hoB2QWozgD_GxHSlpzOFkMBqnLApHMqJyBBOPcROG2+neCFF6Op_OwIJ8BA_Mg3DrscKSOypSDGYEfg4FQLZ175_S2N8yZUNH9fK58xXpiqSK+6_0Qtr3NT4HfS5pw2t5p33ROUm6lw\"/>"
      ],
      "text/plain": [
       "<IPython.core.display.Image object>"
      ]
     },
     "metadata": {},
     "output_type": "display_data"
    }
   ],
   "source": [
    "import base64\n",
    "from IPython.display import Image, display\n",
    "import matplotlib.pyplot as plt\n",
    "import zlib \n",
    "\n",
    "def compress(data):\n",
    "    c = zlib.compressobj(9, zlib.DEFLATED, 15, 8,zlib.Z_DEFAULT_STRATEGY)\n",
    "    compressed_data = c.compress(data)\n",
    "    compressed_data += c.flush()\n",
    "    return compressed_data\n",
    "\n",
    "def render_mermaid(graph):\n",
    "    jGraph = { \"code\": graph, \"mermaid\": {\"theme\": \"default\"}}\n",
    "    byteStr = json.dumps(jGraph).encode('utf-8')\n",
    "    deflated = compress(byteStr)\n",
    "    base64_bytes = base64.b64encode(deflated)\n",
    "    base64_string = base64_bytes.decode(\"ascii\").replace('/','_')\n",
    "    display(Image(url=\"https://mermaid.ink/img/pako:\" + base64_string))\n",
    "\n",
    "x = res[res.find('```'):].replace('```mermaid','')\n",
    "x = x[:x.find('```')]\n",
    "print(x)\n",
    "render_mermaid(x)"
   ]
  }
 ],
 "metadata": {
  "kernelspec": {
   "display_name": "fresh",
   "language": "python",
   "name": "python3"
  },
  "language_info": {
   "codemirror_mode": {
    "name": "ipython",
    "version": 3
   },
   "file_extension": ".py",
   "mimetype": "text/x-python",
   "name": "python",
   "nbconvert_exporter": "python",
   "pygments_lexer": "ipython3",
   "version": "3.10.13"
  }
 },
 "nbformat": 4,
 "nbformat_minor": 2
}
