{
 "cells": [
  {
   "cell_type": "markdown",
   "metadata": {},
   "source": [
    "## Примеры промпт-инжиниринга с YandexGPT\n",
    "\n",
    "Для работы с YandexGPT будем использовать фреймворк LangChain. Создадам объект `GPT` для взаимодействия с YandexGPT. \n",
    "\n",
    "> Чтобы код ниже работал, нам необходимо поместить файл `config.json` с ключами `folder_id` и `api_key`\n",
    "\n",
    "Мы будем использовать параметр `model_name='yandexgpt'` для работы с моделью YandexGPT Pro."
   ]
  },
  {
   "cell_type": "code",
   "execution_count": 14,
   "metadata": {},
   "outputs": [
    {
     "name": "stdout",
     "output_type": "stream",
     "text": [
      "Клиент заказал сайт, разработчик выдаёт ему счёт. Клиент в недоумении:\n",
      "\n",
      "— Здесь в два раза больше строк кода, чем на моём старом сайте!\n",
      "\n",
      "Разработчик:\n",
      "\n",
      "— Не переживайте, просто новый сайт написан на JSON, а старый — на HTML.\n"
     ]
    }
   ],
   "source": [
    "from langchain_community.llms import YandexGPT\n",
    "import json\n",
    "\n",
    "config = json.load(open('config.json'))\n",
    "GPT = YandexGPT(api_key = config['api_key'], \n",
    "                folder_id = config['folder_id'],\n",
    "                model_name = 'yandexgpt',\n",
    "                temperature=1)\n",
    "\n",
    "print(GPT.invoke('Расскажи анекдот про JSON'))"
   ]
  },
  {
   "cell_type": "markdown",
   "metadata": {},
   "source": [
    "## Извлечение структурированных данных из текста\n",
    "\n",
    "Предположим, у нас есть отзывы о ресторанах следующего вида:"
   ]
  },
  {
   "cell_type": "code",
   "execution_count": 15,
   "metadata": {},
   "outputs": [],
   "source": [
    "reviews = [\"\"\"\n",
    "Я посетил ресторан Бургер Кинг летом прошлого года, и был разочарован!\n",
    "Из позитивных моментов: обслуживание было быстрым, я получил заказ через 5 минут.\n",
    "Но при этом весь персонал был мрачным, и еда оказалась не очень вкусной. Картошка\n",
    "была сырая и пахла резиной, а мясо в гамбургере было серым на цвет.\n",
    "\"\"\",\"\"\"\n",
    "Я слышал, что в Макдональдсе котлеты готовят не из мяса, и \n",
    "сегодня я в этом убедился сам! В котлете попалось что-то жесткое,\n",
    "и я чуть не сломал зуб!\n",
    "\"\"\",\"\"\"\n",
    "Я был а Макдональдсе четыре раза, и каждый раз это было удивительно!\n",
    "Столько вкусов мороженого я никогда не пробовал! И все официантки за\n",
    "кассой очень молодые и симпатичные!\n",
    "\"\"\",\"\"\"\n",
    "Макдональдс - это прекрасное место, где можно поесть американскую еду:\n",
    "гамбургеры, картошку фри и конечно же прекрасное мороженое!\n",
    "Я обычно заказываю биг мак, в котором много вкусного зелёного салата.\n",
    "Это делает еду полезной и здоровой, что очень хорошо! Спасибо всем официантам,\n",
    "которые всегда улыбаются и радуются мне!\n",
    "\"\"\",\"\"\"\n",
    "Мне нравятся официантки во \"Вкусно и точка\", они всегда вовремя приносят блюда.\n",
    "Но при этом вкус блюд не очень.\n",
    "\"\"\"]"
   ]
  },
  {
   "cell_type": "markdown",
   "metadata": {},
   "source": [
    "Попробуем извлчечь из этих отзывов стуктурированную информацию в формате JSON:"
   ]
  },
  {
   "cell_type": "code",
   "execution_count": 16,
   "metadata": {},
   "outputs": [
    {
     "name": "stdout",
     "output_type": "stream",
     "text": [
      "{\n",
      "  \"name\": \"Бургер Кинг\",\n",
      "  \"service\": 0.5,\n",
      "  \"food\": -0.75,\n",
      "  \"tone\": -0.6,\n",
      "  \"summary\": \"Разочарование в обслуживании и качестве еды.\"\n",
      "}\n"
     ]
    }
   ],
   "source": [
    "template = '''\n",
    "Ниже в тройных обратных кавычках приводится отзыв посетителя о ресторане. Пожалуйста,\n",
    "прочитай этот отзыв, и извлеки из него следующую информацию:\n",
    "1. Название ресторана (name)\n",
    "2. Качество обслуживания (service): дробное число от -1.0 (плохо) до 1.0 (хорошо)\n",
    "3. Качество еды (food): дробное число от -1.0 (плохо) до 1.0 (хорошо)\n",
    "4. Общая тональность отзыва (tone): дробное число от -1.0 (отрицательный) до 1.0 (положительный)\n",
    "5. Краткое содержание отзыва (summary) в 10-15 словах\n",
    "Результат верни в формате JSON такого вида:\n",
    "{{\n",
    "  \"name\" : \"...\",\n",
    "  \"service\" : ...,\n",
    "  \"food\" : ...,\n",
    "  \"tone\" : ...,\n",
    "  \"summary\" : \"...\"\n",
    "}}\n",
    "Верни только JSON, не пиши никаких дополнительных слов.\n",
    "Вот сам отзыв:\n",
    "```{}```\n",
    "'''\n",
    "\n",
    "print(GPT(template.format(reviews[0])))"
   ]
  },
  {
   "cell_type": "markdown",
   "metadata": {},
   "source": [
    "Соберём результаты обработки всех отзывов в список, и на основе этого построим таблицу:"
   ]
  },
  {
   "cell_type": "code",
   "execution_count": 17,
   "metadata": {},
   "outputs": [
    {
     "name": "stdout",
     "output_type": "stream",
     "text": [
      "{\n",
      "  \"name\": \"Бургер Кинг\",\n",
      "  \"service\": 0.5,\n",
      "  \"food\": -0.75,\n",
      "  \"tone\": -0.5,\n",
      "  \"summary\": \"Посетитель разочарован: быстрое обслуживание, но мрачный персонал и невкусная еда.\"\n",
      "}\n",
      "{\n",
      "  \"name\": \"Макдональдс\",\n",
      "  \"service\": -1.0,\n",
      "  \"food\": -1.0,\n",
      "  \"tone\": -1.0,\n",
      "  \"summary\": \"В котлете попалось что-то жёсткое.\"\n",
      "}\n",
      "{\n",
      "  \"name\": \"Макдональдс\",\n",
      "  \"service\": 1.0,\n",
      "  \"food\": 1.0,\n",
      "  \"tone\": 1.0,\n",
      "  \"summary\": \"Много вкусов мороженого. Симпатичные официантки.\"\n",
      "}\n",
      "{\n",
      "  \"name\": \"Макдональдс\",\n",
      "  \"service\": 1.0,\n",
      "  \"food\": 1.0,\n",
      "  \"tone\": 1.0,\n",
      "  \"summary\": \"Полезный и вкусный бургер с салатом.\"\n",
      "}\n"
     ]
    },
    {
     "name": "stderr",
     "output_type": "stream",
     "text": [
      "Retrying langchain_community.llms.yandex.completion_with_retry.<locals>._completion_with_retry in 1.0 seconds as it raised _MultiThreadedRendezvous: <_MultiThreadedRendezvous of RPC that terminated with:\n",
      "\tstatus = StatusCode.RESOURCE_EXHAUSTED\n",
      "\tdetails = \"ai.textGenerationCompletionSessionsCount.count gauge quota limit exceed: allowed 1 requests\"\n",
      "\tdebug_error_string = \"UNKNOWN:Error received from peer ipv4:158.160.54.160:443 {created_time:\"2024-07-08T21:12:53.9533124+00:00\", grpc_status:8, grpc_message:\"ai.textGenerationCompletionSessionsCount.count gauge quota limit exceed: allowed 1 requests\"}\"\n",
      ">.\n"
     ]
    },
    {
     "name": "stdout",
     "output_type": "stream",
     "text": [
      "{\n",
      "  \"name\": \"Вкусно и точка\",\n",
      "  \"service\": 1.0,\n",
      "  \"food\": -0.5,\n",
      "  \"tone\": 0.5,\n",
      "  \"summary\": \"Официантки во «Вкусно и точка» всегда вовремя приносят блюда.\"\n",
      "}\n"
     ]
    },
    {
     "data": {
      "text/html": [
       "<div>\n",
       "<style scoped>\n",
       "    .dataframe tbody tr th:only-of-type {\n",
       "        vertical-align: middle;\n",
       "    }\n",
       "\n",
       "    .dataframe tbody tr th {\n",
       "        vertical-align: top;\n",
       "    }\n",
       "\n",
       "    .dataframe thead th {\n",
       "        text-align: right;\n",
       "    }\n",
       "</style>\n",
       "<table border=\"1\" class=\"dataframe\">\n",
       "  <thead>\n",
       "    <tr style=\"text-align: right;\">\n",
       "      <th></th>\n",
       "      <th>name</th>\n",
       "      <th>service</th>\n",
       "      <th>food</th>\n",
       "      <th>tone</th>\n",
       "      <th>summary</th>\n",
       "    </tr>\n",
       "  </thead>\n",
       "  <tbody>\n",
       "    <tr>\n",
       "      <th>0</th>\n",
       "      <td>Бургер Кинг</td>\n",
       "      <td>0.5</td>\n",
       "      <td>-0.75</td>\n",
       "      <td>-0.5</td>\n",
       "      <td>Посетитель разочарован: быстрое обслуживание, ...</td>\n",
       "    </tr>\n",
       "    <tr>\n",
       "      <th>1</th>\n",
       "      <td>Макдональдс</td>\n",
       "      <td>-1.0</td>\n",
       "      <td>-1.00</td>\n",
       "      <td>-1.0</td>\n",
       "      <td>В котлете попалось что-то жёсткое.</td>\n",
       "    </tr>\n",
       "    <tr>\n",
       "      <th>2</th>\n",
       "      <td>Макдональдс</td>\n",
       "      <td>1.0</td>\n",
       "      <td>1.00</td>\n",
       "      <td>1.0</td>\n",
       "      <td>Много вкусов мороженого. Симпатичные официантки.</td>\n",
       "    </tr>\n",
       "    <tr>\n",
       "      <th>3</th>\n",
       "      <td>Макдональдс</td>\n",
       "      <td>1.0</td>\n",
       "      <td>1.00</td>\n",
       "      <td>1.0</td>\n",
       "      <td>Полезный и вкусный бургер с салатом.</td>\n",
       "    </tr>\n",
       "    <tr>\n",
       "      <th>4</th>\n",
       "      <td>Вкусно и точка</td>\n",
       "      <td>1.0</td>\n",
       "      <td>-0.50</td>\n",
       "      <td>0.5</td>\n",
       "      <td>Официантки во «Вкусно и точка» всегда вовремя ...</td>\n",
       "    </tr>\n",
       "  </tbody>\n",
       "</table>\n",
       "</div>"
      ],
      "text/plain": [
       "             name  service  food  tone  \\\n",
       "0     Бургер Кинг      0.5 -0.75  -0.5   \n",
       "1     Макдональдс     -1.0 -1.00  -1.0   \n",
       "2     Макдональдс      1.0  1.00   1.0   \n",
       "3     Макдональдс      1.0  1.00   1.0   \n",
       "4  Вкусно и точка      1.0 -0.50   0.5   \n",
       "\n",
       "                                             summary  \n",
       "0  Посетитель разочарован: быстрое обслуживание, ...  \n",
       "1                 В котлете попалось что-то жёсткое.  \n",
       "2   Много вкусов мороженого. Симпатичные официантки.  \n",
       "3               Полезный и вкусный бургер с салатом.  \n",
       "4  Официантки во «Вкусно и точка» всегда вовремя ...  "
      ]
     },
     "execution_count": 17,
     "metadata": {},
     "output_type": "execute_result"
    }
   ],
   "source": [
    "import pandas as pd\n",
    "\n",
    "res = []\n",
    "for x in reviews:\n",
    "  r = GPT(template.format(x))\n",
    "  r = r[r.find('{'):]\n",
    "  r = r[:r.find('}')+1]\n",
    "  print(r)\n",
    "  res.append(json.loads(r))\n",
    "\n",
    "df = pd.DataFrame(res)\n",
    "df"
   ]
  },
  {
   "cell_type": "markdown",
   "metadata": {},
   "source": [
    "Теперь легко можем посчитать средние значения показателей по всем ресторанам:"
   ]
  },
  {
   "cell_type": "code",
   "execution_count": 18,
   "metadata": {},
   "outputs": [
    {
     "data": {
      "text/html": [
       "<div>\n",
       "<style scoped>\n",
       "    .dataframe tbody tr th:only-of-type {\n",
       "        vertical-align: middle;\n",
       "    }\n",
       "\n",
       "    .dataframe tbody tr th {\n",
       "        vertical-align: top;\n",
       "    }\n",
       "\n",
       "    .dataframe thead th {\n",
       "        text-align: right;\n",
       "    }\n",
       "</style>\n",
       "<table border=\"1\" class=\"dataframe\">\n",
       "  <thead>\n",
       "    <tr style=\"text-align: right;\">\n",
       "      <th></th>\n",
       "      <th>service</th>\n",
       "      <th>food</th>\n",
       "      <th>tone</th>\n",
       "    </tr>\n",
       "    <tr>\n",
       "      <th>name</th>\n",
       "      <th></th>\n",
       "      <th></th>\n",
       "      <th></th>\n",
       "    </tr>\n",
       "  </thead>\n",
       "  <tbody>\n",
       "    <tr>\n",
       "      <th>Бургер Кинг</th>\n",
       "      <td>0.500000</td>\n",
       "      <td>-0.750000</td>\n",
       "      <td>-0.500000</td>\n",
       "    </tr>\n",
       "    <tr>\n",
       "      <th>Вкусно и точка</th>\n",
       "      <td>1.000000</td>\n",
       "      <td>-0.500000</td>\n",
       "      <td>0.500000</td>\n",
       "    </tr>\n",
       "    <tr>\n",
       "      <th>Макдональдс</th>\n",
       "      <td>0.333333</td>\n",
       "      <td>0.333333</td>\n",
       "      <td>0.333333</td>\n",
       "    </tr>\n",
       "  </tbody>\n",
       "</table>\n",
       "</div>"
      ],
      "text/plain": [
       "                 service      food      tone\n",
       "name                                        \n",
       "Бургер Кинг     0.500000 -0.750000 -0.500000\n",
       "Вкусно и точка  1.000000 -0.500000  0.500000\n",
       "Макдональдс     0.333333  0.333333  0.333333"
      ]
     },
     "execution_count": 18,
     "metadata": {},
     "output_type": "execute_result"
    }
   ],
   "source": [
    "df[['service','food','tone','name']].groupby('name').mean()"
   ]
  },
  {
   "cell_type": "markdown",
   "metadata": {},
   "source": [
    "## Извлечение рисунков из текста\n",
    "\n",
    "Интересный приём - извлечение структурных диаграмм из текста. YandexGPT не может рисовать, но он может генерировать текстовые описания диаграмм и mindmap-ов в таких форматах, как [mermaid.js](https://mermaid.js.org), [PlantUML](https://plantuml.com) или [Markmap.js](http://markmap.js.org).\n",
    "\n",
    "Рассмотрим, как извлечь блок-схему из описания простого рецепта:"
   ]
  },
  {
   "cell_type": "code",
   "execution_count": 84,
   "metadata": {},
   "outputs": [
    {
     "name": "stdout",
     "output_type": "stream",
     "text": [
      "Конечно, вот текстовое описание диаграммы по шагам приготовления блюда:\n",
      "\n",
      "```mermaid\n",
      "graph LR\n",
      "A[Возьмём клубнику] --> B[Положим в воду]\n",
      "C[Положим сметану в мисочку] --> D[Добавим ванилина]\n",
      "B --> E[Нарежем клубнику ломтиками]\n",
      "E --> F[Поместим клубнику в сметану]\n",
      "F --> G[Присыпем корицей]\n",
      "G --> H[Блюдо готово!]\n",
      "```\n"
     ]
    }
   ],
   "source": [
    "recipe = \"\"\"\n",
    "Ниже приводится рецепт моего любимого блюда. Возмём клубнику и положим в воду. Одновременно с этим положим\n",
    "сметану в небольшую мисочку и добавим ванилина. Когда клубника отмокнет, нарежем её небольшими ломтиками и положим в \n",
    "сметану. Сверху присыпем небольшим количеством корицы. Блюдо готово!\n",
    "\"\"\" \n",
    "\n",
    "template = \"\"\"\n",
    "Ниже в тройных обратных кавычках приводится рецепт блюда. Пожалуйста, прочитай его, и представь\n",
    "шаги по его приготовлению в виде диаграммы с прямоугольниками и стрелочками в формате mermaid.js.\n",
    "Верни только текстовое описание диаграммы, ничего лишнего. Для шагов диаграммы придумай\n",
    "короткие описания в 1-2 слова.\n",
    "Рецепт: ```{}```\n",
    "\"\"\"\n",
    "\n",
    "GPT.temperature = 0.1\n",
    "res = GPT(template.format(recipe))\n",
    "print(res)"
   ]
  },
  {
   "cell_type": "markdown",
   "metadata": {},
   "source": [
    "Чтобы показать картинку, используем сервис для рендеринга Mermaid.js под названием Mermaid.ink:"
   ]
  },
  {
   "cell_type": "code",
   "execution_count": 107,
   "metadata": {},
   "outputs": [
    {
     "data": {
      "text/html": [
       "<img src=\"https://mermaid.ink/img/pako:eNqdU81uwjAMfpUs5yE1jTsGh0nAgB122nXl0DbpQFrLhOCEePcF21K8BQ5wcazE_n6c5KibrfN6rHTZf+2qn7V6_yj7yWd5yMDk52g9xuE5QoM5xsJQrnCpMNZYZDGnY4fxOdaAXanB4EVNiaIVFLXIn0QfU+S8iCpgxLKf3QoHJlqxBe4QchZ1g_3D3EQQ7kZwGKbuXkkOCAlGoOcX3P0n5+Na5LSfBbtTZJkTi4utkEU_bLq485pUMsRGTEmUsmieThA3R3GL9EbksE0Cdq_E_Ib7DOoWqG4p1PHQxMUC2W6vDdAnbXLWo8CyRJY3YjHCkni41hOmFZjydXP+EOD0o9Kd33XVxoW_etT7te_w1zrfVofvvT6dfgEZchCx\"/>"
      ],
      "text/plain": [
       "<IPython.core.display.Image object>"
      ]
     },
     "metadata": {},
     "output_type": "display_data"
    }
   ],
   "source": [
    "import base64\n",
    "from IPython.display import Image, display\n",
    "import matplotlib.pyplot as plt\n",
    "import zlib \n",
    "\n",
    "def compress(data):\n",
    "    c = zlib.compressobj(9, zlib.DEFLATED, 15, 8,zlib.Z_DEFAULT_STRATEGY)\n",
    "    compressed_data = c.compress(data)\n",
    "    compressed_data += c.flush()\n",
    "    return compressed_data\n",
    "\n",
    "def render_mermaid(graph):\n",
    "    jGraph = { \"code\": graph, \"mermaid\": {\"theme\": \"default\"}}\n",
    "    byteStr = json.dumps(jGraph).encode('utf-8')\n",
    "    deflated = compress(byteStr)\n",
    "    base64_bytes = base64.b64encode(deflated)\n",
    "    base64_string = base64_bytes.decode(\"ascii\").replace('/','_')\n",
    "    display(Image(url=\"https://mermaid.ink/img/pako:\" + base64_string))\n",
    "\n",
    "x = res[res.find('```'):].replace('```mermaid','')\n",
    "x = x[:x.find('```')]\n",
    "\n",
    "render_mermaid(x)"
   ]
  },
  {
   "cell_type": "code",
   "execution_count": null,
   "metadata": {},
   "outputs": [],
   "source": []
  }
 ],
 "metadata": {
  "kernelspec": {
   "display_name": "fresh",
   "language": "python",
   "name": "python3"
  },
  "language_info": {
   "codemirror_mode": {
    "name": "ipython",
    "version": 3
   },
   "file_extension": ".py",
   "mimetype": "text/x-python",
   "name": "python",
   "nbconvert_exporter": "python",
   "pygments_lexer": "ipython3",
   "version": "3.10.13"
  }
 },
 "nbformat": 4,
 "nbformat_minor": 2
}
