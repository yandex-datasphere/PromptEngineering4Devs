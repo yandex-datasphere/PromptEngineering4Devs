{
 "cells": [
  {
   "cell_type": "markdown",
   "metadata": {},
   "source": [
    "## GPT как персональный раб разработчика\n",
    "\n",
    "Используем большие языковые модели для автоматизации сложных задач.\n",
    "\n",
    "Для начала научимся использовать большие языковые модели программно. Я рекомендую посмотреть на библиотеку [LangChain](https://www.langchain.com/).\n",
    "\n",
    "> Если вы открыли код из Google Colab, вам нужно создать файл `config.json`, содержащий ключи для доступа к моделям, следующего вида:\n",
    "```json\n",
    "{\n",
    "    \"folder_id\" : \"...\",\n",
    "    \"api_key\" : \"...\",\n",
    "    \"gigachain_auth\" : \"...\"\n",
    "}\n",
    "```\n",
    "\n",
    "Для поддержки модели Yandex GPT можно дополнительно установить библиотеку [`yandex_chain`](https://github.com/yandex-datasphere/yandex-chain), в которой чуть больше возможностей по работе с YandexGPT, чем в стандартной LangChain.\n",
    "\n",
    "Для начала, установим библиотеки:"
   ]
  },
  {
   "cell_type": "code",
   "execution_count": 6,
   "metadata": {
    "execution": {
     "iopub.execute_input": "2024-05-09T21:31:44.871923Z",
     "iopub.status.busy": "2024-05-09T21:31:44.871203Z",
     "iopub.status.idle": "2024-05-09T21:32:02.597581Z",
     "shell.execute_reply": "2024-05-09T21:32:02.596815Z",
     "shell.execute_reply.started": "2024-05-09T21:31:44.871883Z"
    },
    "tags": []
   },
   "outputs": [
    {
     "name": "stdout",
     "output_type": "stream",
     "text": [
      "Defaulting to user installation because normal site-packages is not writeable\n",
      "Requirement already satisfied: yandex_chain==0.0.7 in /home/jupyter/.local/lib/python3.10/site-packages (0.0.7)\n",
      "Requirement already satisfied: gigachat in /home/jupyter/.local/lib/python3.10/site-packages (0.1.23)\n",
      "Requirement already satisfied: requests in /kernel/lib/python3.10/site-packages (from yandex_chain==0.0.7) (2.31.0)\n",
      "Requirement already satisfied: langchain==0.1.0 in /home/jupyter/.local/lib/python3.10/site-packages (from yandex_chain==0.0.7) (0.1.0)\n",
      "Requirement already satisfied: tenacity in /usr/local/lib/python3.10/dist-packages (from yandex_chain==0.0.7) (8.2.2)\n",
      "Requirement already satisfied: PyYAML>=5.3 in /usr/local/lib/python3.10/dist-packages (from langchain==0.1.0->yandex_chain==0.0.7) (6.0.1)\n",
      "Requirement already satisfied: SQLAlchemy<3,>=1.4 in /usr/local/lib/python3.10/dist-packages (from langchain==0.1.0->yandex_chain==0.0.7) (2.0.19)\n",
      "Requirement already satisfied: aiohttp<4.0.0,>=3.8.3 in /usr/local/lib/python3.10/dist-packages (from langchain==0.1.0->yandex_chain==0.0.7) (3.8.5)\n",
      "Requirement already satisfied: async-timeout<5.0.0,>=4.0.0 in /usr/local/lib/python3.10/dist-packages (from langchain==0.1.0->yandex_chain==0.0.7) (4.0.2)\n",
      "Requirement already satisfied: dataclasses-json<0.7,>=0.5.7 in /home/jupyter/.local/lib/python3.10/site-packages (from langchain==0.1.0->yandex_chain==0.0.7) (0.6.5)\n",
      "Requirement already satisfied: jsonpatch<2.0,>=1.33 in /home/jupyter/.local/lib/python3.10/site-packages (from langchain==0.1.0->yandex_chain==0.0.7) (1.33)\n",
      "Requirement already satisfied: langchain-community<0.1,>=0.0.9 in /home/jupyter/.local/lib/python3.10/site-packages (from langchain==0.1.0->yandex_chain==0.0.7) (0.0.20)\n",
      "Requirement already satisfied: langchain-core<0.2,>=0.1.7 in /home/jupyter/.local/lib/python3.10/site-packages (from langchain==0.1.0->yandex_chain==0.0.7) (0.1.23)\n",
      "Requirement already satisfied: langsmith<0.1.0,>=0.0.77 in /home/jupyter/.local/lib/python3.10/site-packages (from langchain==0.1.0->yandex_chain==0.0.7) (0.0.87)\n",
      "Requirement already satisfied: numpy<2,>=1 in /usr/local/lib/python3.10/dist-packages (from langchain==0.1.0->yandex_chain==0.0.7) (1.22.4)\n",
      "Requirement already satisfied: pydantic<3,>=1 in /usr/local/lib/python3.10/dist-packages (from langchain==0.1.0->yandex_chain==0.0.7) (1.10.12)\n",
      "Requirement already satisfied: httpx<1 in /home/jupyter/.local/lib/python3.10/site-packages (from gigachat) (0.27.0)\n",
      "Requirement already satisfied: anyio in /usr/local/lib/python3.10/dist-packages (from httpx<1->gigachat) (3.7.1)\n",
      "Requirement already satisfied: certifi in /kernel/lib/python3.10/site-packages (from httpx<1->gigachat) (2024.2.2)\n",
      "Requirement already satisfied: httpcore==1.* in /home/jupyter/.local/lib/python3.10/site-packages (from httpx<1->gigachat) (1.0.5)\n",
      "Requirement already satisfied: idna in /kernel/lib/python3.10/site-packages (from httpx<1->gigachat) (3.7)\n",
      "Requirement already satisfied: sniffio in /usr/local/lib/python3.10/dist-packages (from httpx<1->gigachat) (1.3.0)\n",
      "Requirement already satisfied: h11<0.15,>=0.13 in /home/jupyter/.local/lib/python3.10/site-packages (from httpcore==1.*->httpx<1->gigachat) (0.14.0)\n",
      "Requirement already satisfied: typing-extensions>=4.2.0 in /kernel/lib/python3.10/site-packages (from pydantic<3,>=1->langchain==0.1.0->yandex_chain==0.0.7) (4.11.0)\n",
      "Requirement already satisfied: charset-normalizer<4,>=2 in /kernel/lib/python3.10/site-packages (from requests->yandex_chain==0.0.7) (3.3.2)\n",
      "Requirement already satisfied: urllib3<3,>=1.21.1 in /kernel/lib/python3.10/site-packages (from requests->yandex_chain==0.0.7) (1.25.11)\n",
      "Requirement already satisfied: attrs>=17.3.0 in /kernel/lib/python3.10/site-packages (from aiohttp<4.0.0,>=3.8.3->langchain==0.1.0->yandex_chain==0.0.7) (23.2.0)\n",
      "Requirement already satisfied: multidict<7.0,>=4.5 in /usr/local/lib/python3.10/dist-packages (from aiohttp<4.0.0,>=3.8.3->langchain==0.1.0->yandex_chain==0.0.7) (6.0.4)\n",
      "Requirement already satisfied: yarl<2.0,>=1.0 in /usr/local/lib/python3.10/dist-packages (from aiohttp<4.0.0,>=3.8.3->langchain==0.1.0->yandex_chain==0.0.7) (1.9.2)\n",
      "Requirement already satisfied: frozenlist>=1.1.1 in /usr/local/lib/python3.10/dist-packages (from aiohttp<4.0.0,>=3.8.3->langchain==0.1.0->yandex_chain==0.0.7) (1.4.0)\n",
      "Requirement already satisfied: aiosignal>=1.1.2 in /usr/local/lib/python3.10/dist-packages (from aiohttp<4.0.0,>=3.8.3->langchain==0.1.0->yandex_chain==0.0.7) (1.3.1)\n",
      "Requirement already satisfied: marshmallow<4.0.0,>=3.18.0 in /home/jupyter/.local/lib/python3.10/site-packages (from dataclasses-json<0.7,>=0.5.7->langchain==0.1.0->yandex_chain==0.0.7) (3.21.2)\n",
      "Requirement already satisfied: typing-inspect<1,>=0.4.0 in /home/jupyter/.local/lib/python3.10/site-packages (from dataclasses-json<0.7,>=0.5.7->langchain==0.1.0->yandex_chain==0.0.7) (0.9.0)\n",
      "Requirement already satisfied: jsonpointer>=1.9 in /home/jupyter/.local/lib/python3.10/site-packages (from jsonpatch<2.0,>=1.33->langchain==0.1.0->yandex_chain==0.0.7) (2.4)\n",
      "Collecting packaging<24.0,>=23.2 (from langchain-core<0.2,>=0.1.7->langchain==0.1.0->yandex_chain==0.0.7)\n",
      "  Downloading packaging-23.2-py3-none-any.whl.metadata (3.2 kB)\n",
      "Requirement already satisfied: exceptiongroup in /usr/local/lib/python3.10/dist-packages (from anyio->httpx<1->gigachat) (1.1.2)\n",
      "Requirement already satisfied: greenlet!=0.4.17 in /usr/local/lib/python3.10/dist-packages (from SQLAlchemy<3,>=1.4->langchain==0.1.0->yandex_chain==0.0.7) (2.0.2)\n",
      "Requirement already satisfied: mypy-extensions>=0.3.0 in /home/jupyter/.local/lib/python3.10/site-packages (from typing-inspect<1,>=0.4.0->dataclasses-json<0.7,>=0.5.7->langchain==0.1.0->yandex_chain==0.0.7) (1.0.0)\n",
      "Downloading packaging-23.2-py3-none-any.whl (53 kB)\n",
      "\u001b[2K   \u001b[90m━━━━━━━━━━━━━━━━━━━━━━━━━━━━━━━━━━━━━━━━\u001b[0m \u001b[32m53.0/53.0 kB\u001b[0m \u001b[31m753.7 kB/s\u001b[0m eta \u001b[36m0:00:00\u001b[0ma \u001b[36m0:00:01\u001b[0m\n",
      "\u001b[?25hInstalling collected packages: packaging\n",
      "\u001b[31mERROR: pip's dependency resolver does not currently take into account all the packages that are installed. This behaviour is the source of the following dependency conflicts.\n",
      "dvc 2.58.2 requires platformdirs<4,>=3.1.1, but you have platformdirs 4.2.0 which is incompatible.\n",
      "dvc 2.58.2 requires psutil>=5.8, but you have psutil 5.7.3 which is incompatible.\u001b[0m\u001b[31m\n",
      "\u001b[0mSuccessfully installed packaging-23.2\n",
      "\n",
      "\u001b[1m[\u001b[0m\u001b[34;49mnotice\u001b[0m\u001b[1;39;49m]\u001b[0m\u001b[39;49m A new release of pip is available: \u001b[0m\u001b[31;49m23.0.1\u001b[0m\u001b[39;49m -> \u001b[0m\u001b[32;49m24.0\u001b[0m\n",
      "\u001b[1m[\u001b[0m\u001b[34;49mnotice\u001b[0m\u001b[1;39;49m]\u001b[0m\u001b[39;49m To update, run: \u001b[0m\u001b[32;49mpython3 -m pip install --upgrade pip\u001b[0m\n",
      "Defaulting to user installation because normal site-packages is not writeable\n",
      "Requirement already satisfied: yandexcloud in /home/jupyter/.local/lib/python3.10/site-packages (0.278.0)\n",
      "Requirement already satisfied: cryptography>=2.8 in /usr/lib/python3/dist-packages (from yandexcloud) (3.4.8)\n",
      "Requirement already satisfied: grpcio>=1.56.2 in /usr/local/lib/python3.10/dist-packages (from yandexcloud) (1.56.2)\n",
      "Requirement already satisfied: protobuf>=4.23.4 in /home/jupyter/.local/lib/python3.10/site-packages (from yandexcloud) (4.25.3)\n",
      "Requirement already satisfied: googleapis-common-protos>=1.59.1 in /usr/local/lib/python3.10/dist-packages (from yandexcloud) (1.59.1)\n",
      "Requirement already satisfied: pyjwt>=1.7.1 in /usr/lib/python3/dist-packages (from yandexcloud) (2.3.0)\n",
      "Requirement already satisfied: requests>=2.22.0 in /kernel/lib/python3.10/site-packages (from yandexcloud) (2.31.0)\n",
      "Requirement already satisfied: six>=1.14.0 in /kernel/lib/python3.10/site-packages (from yandexcloud) (1.16.0)\n",
      "Requirement already satisfied: charset-normalizer<4,>=2 in /kernel/lib/python3.10/site-packages (from requests>=2.22.0->yandexcloud) (3.3.2)\n",
      "Requirement already satisfied: idna<4,>=2.5 in /kernel/lib/python3.10/site-packages (from requests>=2.22.0->yandexcloud) (3.7)\n",
      "Requirement already satisfied: urllib3<3,>=1.21.1 in /kernel/lib/python3.10/site-packages (from requests>=2.22.0->yandexcloud) (1.25.11)\n",
      "Requirement already satisfied: certifi>=2017.4.17 in /kernel/lib/python3.10/site-packages (from requests>=2.22.0->yandexcloud) (2024.2.2)\n",
      "\n",
      "\u001b[1m[\u001b[0m\u001b[34;49mnotice\u001b[0m\u001b[1;39;49m]\u001b[0m\u001b[39;49m A new release of pip is available: \u001b[0m\u001b[31;49m23.0.1\u001b[0m\u001b[39;49m -> \u001b[0m\u001b[32;49m24.0\u001b[0m\n",
      "\u001b[1m[\u001b[0m\u001b[34;49mnotice\u001b[0m\u001b[1;39;49m]\u001b[0m\u001b[39;49m To update, run: \u001b[0m\u001b[32;49mpython3 -m pip install --upgrade pip\u001b[0m\n",
      "Defaulting to user installation because normal site-packages is not writeable\n",
      "Collecting g4f\n",
      "  Downloading g4f-0.3.1.0-py3-none-any.whl.metadata (55 kB)\n",
      "\u001b[2K     \u001b[90m━━━━━━━━━━━━━━━━━━━━━━━━━━━━━━━━━━━━━━━\u001b[0m \u001b[32m55.7/55.7 kB\u001b[0m \u001b[31m791.3 kB/s\u001b[0m eta \u001b[36m0:00:00\u001b[0ma \u001b[36m0:00:01\u001b[0m\n",
      "\u001b[?25hRequirement already satisfied: requests in /kernel/lib/python3.10/site-packages (from g4f) (2.31.0)\n",
      "Requirement already satisfied: aiohttp in /usr/local/lib/python3.10/dist-packages (from g4f) (3.8.5)\n",
      "Collecting brotli (from g4f)\n",
      "  Downloading Brotli-1.1.0-cp310-cp310-manylinux_2_5_x86_64.manylinux1_x86_64.manylinux_2_12_x86_64.manylinux2010_x86_64.whl.metadata (5.5 kB)\n",
      "Collecting pycryptodome (from g4f)\n",
      "  Downloading pycryptodome-3.20.0-cp35-abi3-manylinux_2_17_x86_64.manylinux2014_x86_64.whl.metadata (3.4 kB)\n",
      "Requirement already satisfied: attrs>=17.3.0 in /kernel/lib/python3.10/site-packages (from aiohttp->g4f) (23.2.0)\n",
      "Requirement already satisfied: charset-normalizer<4.0,>=2.0 in /kernel/lib/python3.10/site-packages (from aiohttp->g4f) (3.3.2)\n",
      "Requirement already satisfied: multidict<7.0,>=4.5 in /usr/local/lib/python3.10/dist-packages (from aiohttp->g4f) (6.0.4)\n",
      "Requirement already satisfied: async-timeout<5.0,>=4.0.0a3 in /usr/local/lib/python3.10/dist-packages (from aiohttp->g4f) (4.0.2)\n",
      "Requirement already satisfied: yarl<2.0,>=1.0 in /usr/local/lib/python3.10/dist-packages (from aiohttp->g4f) (1.9.2)\n",
      "Requirement already satisfied: frozenlist>=1.1.1 in /usr/local/lib/python3.10/dist-packages (from aiohttp->g4f) (1.4.0)\n",
      "Requirement already satisfied: aiosignal>=1.1.2 in /usr/local/lib/python3.10/dist-packages (from aiohttp->g4f) (1.3.1)\n",
      "Requirement already satisfied: idna<4,>=2.5 in /kernel/lib/python3.10/site-packages (from requests->g4f) (3.7)\n",
      "Requirement already satisfied: urllib3<3,>=1.21.1 in /kernel/lib/python3.10/site-packages (from requests->g4f) (1.25.11)\n",
      "Requirement already satisfied: certifi>=2017.4.17 in /kernel/lib/python3.10/site-packages (from requests->g4f) (2024.2.2)\n",
      "Downloading g4f-0.3.1.0-py3-none-any.whl (600 kB)\n",
      "\u001b[2K   \u001b[90m━━━━━━━━━━━━━━━━━━━━━━━━━━━━━━━━━━━━━━━━\u001b[0m \u001b[32m600.1/600.1 kB\u001b[0m \u001b[31m5.3 MB/s\u001b[0m eta \u001b[36m0:00:00\u001b[0m00:01\u001b[0m00:01\u001b[0m\n",
      "\u001b[?25hDownloading Brotli-1.1.0-cp310-cp310-manylinux_2_5_x86_64.manylinux1_x86_64.manylinux_2_12_x86_64.manylinux2010_x86_64.whl (3.0 MB)\n",
      "\u001b[2K   \u001b[90m━━━━━━━━━━━━━━━━━━━━━━━━━━━━━━━━━━━━━━━━\u001b[0m \u001b[32m3.0/3.0 MB\u001b[0m \u001b[31m27.1 MB/s\u001b[0m eta \u001b[36m0:00:00\u001b[0m00:01\u001b[0m00:01\u001b[0m\n",
      "\u001b[?25hDownloading pycryptodome-3.20.0-cp35-abi3-manylinux_2_17_x86_64.manylinux2014_x86_64.whl (2.1 MB)\n",
      "\u001b[2K   \u001b[90m━━━━━━━━━━━━━━━━━━━━━━━━━━━━━━━━━━━━━━━━\u001b[0m \u001b[32m2.1/2.1 MB\u001b[0m \u001b[31m81.5 MB/s\u001b[0m eta \u001b[36m0:00:00\u001b[0m\n",
      "\u001b[?25hInstalling collected packages: brotli, pycryptodome, g4f\n",
      "\u001b[33m  WARNING: The script g4f is installed in '/home/jupyter/.local/bin' which is not on PATH.\n",
      "  Consider adding this directory to PATH or, if you prefer to suppress this warning, use --no-warn-script-location.\u001b[0m\u001b[33m\n",
      "\u001b[0mSuccessfully installed brotli-1.1.0 g4f-0.3.1.0 pycryptodome-3.20.0\n",
      "\n",
      "\u001b[1m[\u001b[0m\u001b[34;49mnotice\u001b[0m\u001b[1;39;49m]\u001b[0m\u001b[39;49m A new release of pip is available: \u001b[0m\u001b[31;49m23.0.1\u001b[0m\u001b[39;49m -> \u001b[0m\u001b[32;49m24.0\u001b[0m\n",
      "\u001b[1m[\u001b[0m\u001b[34;49mnotice\u001b[0m\u001b[1;39;49m]\u001b[0m\u001b[39;49m To update, run: \u001b[0m\u001b[32;49mpython3 -m pip install --upgrade pip\u001b[0m\n"
     ]
    }
   ],
   "source": [
    "%pip install yandex_chain==0.0.7 gigachat\n",
    "%pip install --upgrade yandexcloud\n",
    "%pip install g4f"
   ]
  },
  {
   "cell_type": "markdown",
   "metadata": {},
   "source": [
    "> Возможно, для корректной работы кода ниже придётся перезапустить Kernel ноутбука\n",
    "\n",
    "Вот как просто можно организовать вызов языковой модели Yandex GPT из кода:"
   ]
  },
  {
   "cell_type": "code",
   "execution_count": 1,
   "metadata": {
    "execution": {
     "iopub.execute_input": "2024-05-09T21:32:10.446864Z",
     "iopub.status.busy": "2024-05-09T21:32:10.445969Z",
     "iopub.status.idle": "2024-05-09T21:32:19.610706Z",
     "shell.execute_reply": "2024-05-09T21:32:19.609832Z",
     "shell.execute_reply.started": "2024-05-09T21:32:10.446818Z"
    },
    "tags": []
   },
   "outputs": [
    {
     "name": "stdout",
     "output_type": "stream",
     "text": [
      "В далёкой стране, где магия и технологии сосуществовали в гармонии, жил мальчик по имени Джек. Он был очень любознательным и всегда стремился к новым знаниям. Джек любил изучать различные языки программирования и особенно выделял JSON.\n",
      "\n",
      "Однажды Джек решил создать свой собственный мир, где всё будет основано на JSON. Он начал с создания простых объектов и массивов, которые представляли собой различные элементы его мира. Джек назвал свой мир «JSONia» и населил его разнообразными существами, каждое из которых имело свой уникальный JSON-объект.\n",
      "\n",
      "В JSONia Джек создал множество интересных мест, таких как горы, реки, леса и города. Каждое место имело свой уникальный JSON-объект, который определял его характеристики. Например, горы были представлены массивом с высотой, шириной и длиной, а реки — объектом с направлением и скоростью течения.\n",
      "\n",
      "Джек также создал в JSONia множество существ, каждое из которых имело свой уникальный JSON-объект. Например, он создал драконов, которые были представлены объектом с крыльями, хвостом и огнём. Джек также создал эльфов, которые были представлены объектом с магией, мудростью и красотой.\n",
      "\n",
      "Джек проводил много времени в JSONia, изучая и экспериментируя с различными JSON-объектами. Он создавал новые места, существ и события, чтобы сделать свой мир ещё более интересным и разнообразным.\n",
      "\n",
      "Однажды Джек решил создать в JSONia город, который будет представлять собой идеальное место для жизни. Он назвал город «JSONville» и населил его самыми разнообразными существами. В JSONville Джек создал множество интересных мест, таких как библиотеки, музеи, театры и парки.\n",
      "\n",
      "В JSONville Джек также создал множество возможностей для жителей. Например, он создал школы, где жители могли изучать различные языки программирования, включая JSON. Джек также создал больницы, где жители могли получать медицинскую помощь.\n",
      "\n",
      "Джек проводил много времени в JSONville, наблюдая за жизнью его жителей. Он видел, как они учатся, работают, играют и отдыхают. Джек был счастлив, что его мир стал таким интересным и разнообразным.\n",
      "\n",
      "Так Джек и его мир JSONia стали символом того, как любовь к технологиям и знаниям может привести к созданию чего-то удивительного и прекрасного.\n"
     ]
    }
   ],
   "source": [
    "from langchain_community.llms import YandexGPT, GigaChat\n",
    "from yandex_chain import YandexLLM, YandexGPTModel\n",
    "import json\n",
    "\n",
    "config = json.load(open('config.json'))\n",
    "\n",
    "YGPT = YandexLLM(\n",
    "    folder_id = config['folder_id'], \n",
    "    api_key = config['api_key'], \n",
    "    model = YandexGPTModel.Pro,\n",
    "    temperature=0.01,)\n",
    "GC = GigaChat(credentials=config['gigachain_auth'],verify_ssl_certs=False)\n",
    "\n",
    "print(YGPT.invoke(\"Напиши сказку про мальчика, который любил JSON\"))"
   ]
  },
  {
   "cell_type": "markdown",
   "metadata": {},
   "source": [
    "Для вызова ChatGPT попробуем использовать библиотеку GPT4Free:"
   ]
  },
  {
   "cell_type": "code",
   "execution_count": 3,
   "metadata": {
    "execution": {
     "iopub.execute_input": "2024-05-09T21:33:11.463545Z",
     "iopub.status.busy": "2024-05-09T21:33:11.462620Z",
     "iopub.status.idle": "2024-05-09T21:33:11.474131Z",
     "shell.execute_reply": "2024-05-09T21:33:11.473320Z",
     "shell.execute_reply.started": "2024-05-09T21:33:11.463496Z"
    },
    "tags": []
   },
   "outputs": [],
   "source": [
    "import g4f \n",
    "\n",
    "def GPT4(x):\n",
    "    response = g4f.ChatCompletion.create(\n",
    "    model=g4f.models.default,\n",
    "    messages=[{\"role\": \"user\", \"content\": x }])\n",
    "    return response\n",
    "\n",
    "res = GPT4('Придумай сказку про мальчика, который любил JSON')\n",
    "print(res)"
   ]
  },
  {
   "cell_type": "markdown",
   "metadata": {},
   "source": [
    "Теперь попробуем сделать что-то полезное:"
   ]
  },
  {
   "cell_type": "code",
   "execution_count": 5,
   "metadata": {
    "execution": {
     "iopub.execute_input": "2024-05-09T21:33:22.367839Z",
     "iopub.status.busy": "2024-05-09T21:33:22.367101Z",
     "iopub.status.idle": "2024-05-09T21:33:24.851833Z",
     "shell.execute_reply": "2024-05-09T21:33:24.851109Z",
     "shell.execute_reply.started": "2024-05-09T21:33:22.367796Z"
    },
    "tags": []
   },
   "outputs": [
    {
     "name": "stdout",
     "output_type": "stream",
     "text": [
      "Вот несколько забавных кличек для собаки программиста:\n",
      "1. Байбайнер.\n",
      "2. Кодер.\n",
      "3. Хакер.\n",
      "4. Айтишка.\n",
      "5. Компилятор.\n",
      "6. Хакерша.\n",
      "7. Цифропес.\n",
      "8. Скриптоша.\n",
      "9. Алгоритмик.\n",
      "10. Программинка.\n",
      "\n",
      "Эти клички могут развеселить и поднять настроение. Однако выбор клички для собаки — это индивидуальный процесс, который зависит от личных предпочтений и особенностей питомца.\n"
     ]
    }
   ],
   "source": [
    "res = YGPT.invoke(\"Придумай 10 смешных кличек для собаки программиста\")\n",
    "print(res)"
   ]
  },
  {
   "cell_type": "markdown",
   "metadata": {},
   "source": [
    "## Основные приёмы промптинга\n",
    "\n",
    "Важно, чтобы модель получила чёткие и понятные инструкции по тому, что же ей нужно сделать.\n",
    "\n",
    "#### Используем ограничители"
   ]
  },
  {
   "cell_type": "code",
   "execution_count": 7,
   "metadata": {
    "execution": {
     "iopub.execute_input": "2024-05-09T21:33:50.137385Z",
     "iopub.status.busy": "2024-05-09T21:33:50.136369Z",
     "iopub.status.idle": "2024-05-09T21:33:51.104194Z",
     "shell.execute_reply": "2024-05-09T21:33:51.103371Z",
     "shell.execute_reply.started": "2024-05-09T21:33:50.137339Z"
    },
    "tags": []
   },
   "outputs": [
    {
     "name": "stdout",
     "output_type": "stream",
     "text": [
      "Чтобы получить от модели желаемый результат, нужно предоставить ей чёткие и конкретные инструкции, при этом запрос не обязательно должен быть коротким.\n"
     ]
    }
   ],
   "source": [
    "text = \"\"\"\n",
    "Вы должны выразить то, что вы хотите, чтобы модель сделала, \n",
    "предоставив инструкции, которые максимально ясны и конкретны.\n",
    "Это направит модель на желаемый результат и уменьшит вероятность\n",
    "получения несвязанных или неправильных ответов. Не путайте\n",
    "написание четкого запроса с написанием короткого запроса. \n",
    "Во многих случаях более длинные запросы обеспечивают большую ясность \n",
    "и контекст для модели, что может привести к более подробным \n",
    "и соответствующим ответам.\n",
    "\"\"\"\n",
    "\n",
    "instr = \"\"\"\n",
    "    Сократи текст, выделенный тройными обратными\n",
    "    кавычками, до одного предложения. Выведи в качестве результата\n",
    "    одно предложение, содержащее главную мысль текста.\n",
    "    ```{}```\"\"\"\n",
    "\n",
    "res = YGPT.invoke(instr.format(text))\n",
    "print(res)"
   ]
  },
  {
   "cell_type": "markdown",
   "metadata": {},
   "source": [
    "Для работы с шаблонами промптов в LangChain есть специальные классы"
   ]
  },
  {
   "cell_type": "code",
   "execution_count": 8,
   "metadata": {
    "execution": {
     "iopub.execute_input": "2024-05-09T21:34:32.553564Z",
     "iopub.status.busy": "2024-05-09T21:34:32.552668Z",
     "iopub.status.idle": "2024-05-09T21:34:33.412206Z",
     "shell.execute_reply": "2024-05-09T21:34:33.411519Z",
     "shell.execute_reply.started": "2024-05-09T21:34:32.553517Z"
    }
   },
   "outputs": [
    {
     "name": "stdout",
     "output_type": "stream",
     "text": [
      "Чтобы получить от модели желаемый результат, нужно предоставить ей чёткие и конкретные инструкции, при этом запрос не обязательно должен быть коротким.\n"
     ]
    }
   ],
   "source": [
    "from langchain.prompts import PromptTemplate\n",
    "\n",
    "prompt = PromptTemplate(\n",
    "    template=\"\"\"\n",
    "    Сократи текст, выделенный тройными обратными\n",
    "    кавычками, до одного предложения. Выведи в качестве результата\n",
    "    одно предложение, содержащее главную мысль текста.\n",
    "    ```{text}```\"\"\",\n",
    "    input_variables=[\"text\"],\n",
    ")\n",
    "\n",
    "res = YGPT.invoke(prompt.format(text=text))\n",
    "print(res)"
   ]
  },
  {
   "cell_type": "markdown",
   "metadata": {},
   "source": [
    "#### Используем структурированный вывод"
   ]
  },
  {
   "cell_type": "code",
   "execution_count": 10,
   "metadata": {
    "execution": {
     "iopub.execute_input": "2024-05-09T21:34:51.466447Z",
     "iopub.status.busy": "2024-05-09T21:34:51.465734Z",
     "iopub.status.idle": "2024-05-09T21:34:54.445068Z",
     "shell.execute_reply": "2024-05-09T21:34:54.444256Z",
     "shell.execute_reply.started": "2024-05-09T21:34:51.466403Z"
    },
    "tags": []
   },
   "outputs": [
    {
     "name": "stdout",
     "output_type": "stream",
     "text": [
      "Вот десять смешных кличек для собаки программиста, которые я могу предложить:\n",
      "\n",
      "```json\n",
      "[\n",
      "  \"КодОбормот\",\n",
      "  \"Цифропёс\",\n",
      "  \"Байт-Байт\",\n",
      "  \"Бит-Бит\",\n",
      "  \"Хакер-Бутявка\",\n",
      "  \"Компилятор\",\n",
      "  \"Флешка\",\n",
      "  \"Сбой\",\n",
      "  \"Софт-Пёс\",\n",
      "  \"Клавиша\"\n",
      "]\n",
      "```\n",
      "\n",
      "Эти клички могут быть забавными и подходящими для собаки программиста. Однако выбор клички для собаки зависит от многих факторов, таких как порода, характер и личные предпочтения владельца.\n"
     ]
    }
   ],
   "source": [
    "YGPT.temperature=0.5\n",
    "res = YGPT.invoke(\"Придумай 10 смешных кличек для собаки программиста и выведи результат в формате JSON\")\n",
    "print(res)"
   ]
  },
  {
   "cell_type": "markdown",
   "metadata": {},
   "source": [
    "Чтобы убедиться в том, что вывод соответствуюет некоторому формату, используют выходные парсеры:"
   ]
  },
  {
   "cell_type": "code",
   "execution_count": 11,
   "metadata": {
    "execution": {
     "iopub.execute_input": "2024-05-09T21:35:26.239578Z",
     "iopub.status.busy": "2024-05-09T21:35:26.238719Z",
     "iopub.status.idle": "2024-05-09T21:35:27.826940Z",
     "shell.execute_reply": "2024-05-09T21:35:27.826268Z",
     "shell.execute_reply.started": "2024-05-09T21:35:26.239534Z"
    }
   },
   "outputs": [
    {
     "name": "stdout",
     "output_type": "stream",
     "text": [
      "['1. Компилятор', '2. Баг', '3. Алгоритм', '4. Бит', '5. Хакер', '6. Код', '7. Клариса', '8. Цифра', '9. Скрипт', '10. Монитор.']\n"
     ]
    }
   ],
   "source": [
    "from langchain.output_parsers import CommaSeparatedListOutputParser\n",
    "\n",
    "csv_parser = CommaSeparatedListOutputParser()\n",
    "\n",
    "YGPT.temperature = 0.01\n",
    "\n",
    "prompt = PromptTemplate(\n",
    "    template=\"Придумай 10 смешных {subject}, которые бы были оригинальными. {format_instructions}. Используй формат CSV в одну строку\",\n",
    "    input_variables=[\"subject\"],\n",
    "    output_parser=csv_parser,\n",
    "    partial_variables={ \"format_instructions\" : csv_parser.get_format_instructions() }\n",
    ")\n",
    "res = YGPT.invoke(prompt.format(subject=\"кличек для собаки программиста\"))\n",
    "print(csv_parser.parse(res))"
   ]
  },
  {
   "cell_type": "markdown",
   "metadata": {},
   "source": [
    "Поэкспериментируем с температурой"
   ]
  },
  {
   "cell_type": "code",
   "execution_count": 13,
   "metadata": {
    "execution": {
     "iopub.execute_input": "2024-05-09T21:36:18.296302Z",
     "iopub.status.busy": "2024-05-09T21:36:18.295519Z",
     "iopub.status.idle": "2024-05-09T21:36:25.106658Z",
     "shell.execute_reply": "2024-05-09T21:36:25.105900Z",
     "shell.execute_reply.started": "2024-05-09T21:36:18.296254Z"
    },
    "tags": []
   },
   "outputs": [
    {
     "name": "stdout",
     "output_type": "stream",
     "text": [
      "0.1 -> ['1. Компилятор', '2. Баг', '3. Оверфлоу', '4. Хакер', '5. Алгоритм', '6. Бит', '7. Байт', '8. Вирус', '9. Код', '10. Сервер.']\n",
      "0.5 -> ['Компилятор', 'Баг', 'Хакер', 'Ошибочка', 'Алгоритмик', 'Кодзима', 'Глюк', 'Скрипто', 'Байбай', 'Цифра.']\n",
      "0.9 -> ['УмныйПсст', 'Байбай', 'ТурбоПаскаль', 'МатрицаЛабрадоров', 'Цапцарапбайт', 'Байтерьер', 'Поскребкин', 'Хакергав', 'Алгоритмик', 'Компик.']\n"
     ]
    }
   ],
   "source": [
    "import time \n",
    "\n",
    "for t in [0.1, 0.5, 0.9]:\n",
    "    YGPT.temperature = t\n",
    "    res = YGPT.invoke(prompt.format(subject=\"кличек для собаки программиста\"))\n",
    "    time.sleep(1)\n",
    "    print(f\"{t} -> {csv_parser.parse(res)}\")\n",
    "\n",
    "YGPT.temperature = 0.2"
   ]
  },
  {
   "cell_type": "markdown",
   "metadata": {},
   "source": [
    "#### Используем условия\n",
    "\n",
    "Попробуем использовать GPT для выделения последовательности инструкций из текста:"
   ]
  },
  {
   "cell_type": "code",
   "execution_count": 42,
   "metadata": {
    "execution": {
     "iopub.execute_input": "2024-05-09T21:42:27.538062Z",
     "iopub.status.busy": "2024-05-09T21:42:27.537282Z",
     "iopub.status.idle": "2024-05-09T21:42:28.833892Z",
     "shell.execute_reply": "2024-05-09T21:42:28.833215Z",
     "shell.execute_reply.started": "2024-05-09T21:42:27.538017Z"
    },
    "tags": []
   },
   "outputs": [
    {
     "name": "stdout",
     "output_type": "stream",
     "text": [
      "Шаг 1 - Попробуйте яичный омлет на завтрак;\n",
      "Шаг 2 - Если раньше не пробовали, то обязательно стоит попробовать;\n",
      "Шаг 3 - Наслаждайтесь вкусом и ароматом этого блюда.\n"
     ]
    }
   ],
   "source": [
    "text1 = \"\"\"\n",
    "Чтобы приготовить омлет, сначала надо взять яйца. Разбиваем их молотком, затем\n",
    "аккуратно извлекаем осколки скорлупы. Затем добавляем соли. В конце кладем масло на\n",
    "сковородку, и выливаем туда яичную смесь.\n",
    "\"\"\"\n",
    "\n",
    "text2 = \"\"\"\n",
    "Яичный омлет - это прекрасный завтрак! Вам обязательно стоит его попробовать, если\n",
    "раньше никогда не пробовали!\n",
    "\"\"\"\n",
    "\n",
    "prompt = PromptTemplate(\n",
    "    template=\"\"\"\n",
    "    Тебе будет дан текст, выделенный тройными обратными кавычками, в котором содержится\n",
    "    последовательность инструкций. Перепиши их\n",
    "    в виде последовательных шагов в таком формате:\n",
    "    Шаг 1 - ...\n",
    "    Шаг 2 - ...\n",
    "    ...\n",
    "    Шаг N - ... \n",
    "    ```{text}```\"\"\",\n",
    "    input_variables=[\"text\"],\n",
    ")\n",
    "\n",
    "res = GC.invoke(prompt.format(text=text2))\n",
    "print(res)"
   ]
  },
  {
   "cell_type": "markdown",
   "metadata": {},
   "source": [
    "Наблюдаете галлюцинации, при попытке выделить инструции из `text2`?\n",
    "\n",
    "Чтобы этого избежать, слегка модифицируем инструкцию:"
   ]
  },
  {
   "cell_type": "code",
   "execution_count": 41,
   "metadata": {
    "execution": {
     "iopub.execute_input": "2024-05-09T21:42:20.595501Z",
     "iopub.status.busy": "2024-05-09T21:42:20.594699Z",
     "iopub.status.idle": "2024-05-09T21:42:21.267718Z",
     "shell.execute_reply": "2024-05-09T21:42:21.267035Z",
     "shell.execute_reply.started": "2024-05-09T21:42:20.595454Z"
    },
    "tags": []
   },
   "outputs": [
    {
     "name": "stdout",
     "output_type": "stream",
     "text": [
      "Инструкций нет\n"
     ]
    }
   ],
   "source": [
    "prompt = PromptTemplate(\n",
    "    template=\"\"\"\n",
    "    Тебе будет дан текст, выделенный тройными обратными кавычками.\n",
    "    Если в тексте нет конкретных инструкций по приготовлению блюда, напиши \"Инструкций нет\".Если\n",
    "    в тексте содержится последовательность инструкций, перепиши их\n",
    "    в виде последовательных шагов в таком формате:\n",
    "    Шаг 1 - ...\n",
    "    Шаг 2 - ...\n",
    "    ...\n",
    "    Шаг N - ... \n",
    "    ```{text}```\"\"\",\n",
    "    input_variables=[\"text\"],\n",
    ")\n",
    "\n",
    "res = GC.invoke(prompt.format(text=text2))\n",
    "print(res)"
   ]
  },
  {
   "cell_type": "markdown",
   "metadata": {},
   "source": [
    "#### Few-Shot\n",
    "\n",
    "Few-Shot Learning - это когда мы пытаемся \"научить\" модель прямо в запросе, дав ей несколько примеров. Это может быть полезно как для задания точного формата вывода, так и для формулирования самого задания, например:"
   ]
  },
  {
   "cell_type": "code",
   "execution_count": 43,
   "metadata": {
    "execution": {
     "iopub.execute_input": "2024-05-09T21:42:58.061369Z",
     "iopub.status.busy": "2024-05-09T21:42:58.060594Z",
     "iopub.status.idle": "2024-05-09T21:42:59.353417Z",
     "shell.execute_reply": "2024-05-09T21:42:59.352639Z",
     "shell.execute_reply.started": "2024-05-09T21:42:58.061325Z"
    }
   },
   "outputs": [
    {
     "name": "stdout",
     "output_type": "stream",
     "text": [
      "Искренность — это как яркое солнце, которое светит всем одинаково. Оно не выбирает, кому отдавать своё тепло, и не скрывает своего света. Искренность — это когда ты говоришь правду и не пытаешься обмануть других людей.\n"
     ]
    }
   ],
   "source": [
    "YGPT.model = YandexGPTModel.Pro\n",
    "YGPT.temperature = 0.1\n",
    "res = YGPT.invoke(\"\"\"\n",
    "Пожалуйста, ответь на вопрос ребенка в похожем стиле, продолжив диалог:\n",
    "    \n",
    "[Ребенок]: Расскажи мне о терпеливости.\n",
    "[Родитель]: Терпеливость - это как бесконечная река, которая \n",
    "течет сквозь равнины, и никогда не заканчивается. Этой реке\n",
    "никогда не надоедает течь, потому что она всегда спокойна и\n",
    "умиротворена.\n",
    "    \n",
    "[Ребенок]: Расскажи мне об искренности.\n",
    "[Родитель]:\n",
    "\"\"\")\n",
    "\n",
    "print(res)"
   ]
  },
  {
   "cell_type": "markdown",
   "metadata": {},
   "source": [
    "## Дайте модели время подумать!\n",
    "\n",
    "Языковые модели не могут рассуждать, как человек, гоняя мысли в голове \"взад-вперёд\". Модель всегда генерирует текст \"вперёд\", и \"рассуждает\" в процессе генерации. Поэтому важно инструктировать модель так, чтобы она могла \"рассуждать вслух\"."
   ]
  },
  {
   "cell_type": "code",
   "execution_count": 44,
   "metadata": {
    "execution": {
     "iopub.execute_input": "2024-05-09T21:43:17.940616Z",
     "iopub.status.busy": "2024-05-09T21:43:17.939794Z",
     "iopub.status.idle": "2024-05-09T21:43:21.040523Z",
     "shell.execute_reply": "2024-05-09T21:43:21.039660Z",
     "shell.execute_reply.started": "2024-05-09T21:43:17.940577Z"
    }
   },
   "outputs": [
    {
     "name": "stdout",
     "output_type": "stream",
     "text": [
      "**Умные мысли из текста:**\n",
      "\n",
      "1. «Использовать генеративный ИИ полезно, потому что это очень сильно ускоряет работу».\n",
      "\n",
      "2. «Работая с ChatGPT, мы можем многому у него научиться».\n",
      "\n",
      "3. «Используя передовые технологии, мы будем современными и не отставать от прогресса».\n",
      "\n",
      "4. «Есть риск, что мы при этом разучимся сами писать».\n",
      "\n",
      "**Позитивные мысли:**\n",
      "\n",
      "1. «Использовать генеративный ИИ полезно, потому что это очень сильно ускоряет работу».\n",
      "\n",
      "2. «Используя передовые технологии, мы будем современными и не отставать от прогресса».\n",
      "\n",
      "**Негативные мысли:**\n",
      "\n",
      "1. «Есть риск, что мы при этом разучимся сами писать».\n"
     ]
    }
   ],
   "source": [
    "text = \"\"\"\n",
    "Использовать генеративный ИИ полезно, потому что это очень \n",
    "сильно ускоряет работу. Также, работая с ChatGPT, мы можем\n",
    "многому у него научиться. Используя передовые технологии,\n",
    "мы будем современными и не отставать от прогресса. Но есть риск,\n",
    "что мы при этом разучимся сами писать.\n",
    "\"\"\"\n",
    "\n",
    "prompt = PromptTemplate(\n",
    "    template=\"\"\"\n",
    "    Тебе нужно сделать следующее:\n",
    "    1. Выдели умные мысли, которые содержатся в тексте ниже, \n",
    "    выделенном тройными обратными кавычками.\n",
    "    2. Построй список из всех умных мыслей\n",
    "    2. Для каждой умной мысли определи, является ли она позитивной\n",
    "    или негативной.\n",
    "    3. Выведи ответ в формате JSON, который содержит список\n",
    "    умных мыслей и их позитивность/негативность.\n",
    "    ```{text}```\"\"\",\n",
    "    input_variables=[\"text\"],\n",
    ")\n",
    "\n",
    "res = YGPT.invoke(prompt.format(text=text))\n",
    "print(res)"
   ]
  },
  {
   "cell_type": "code",
   "execution_count": 46,
   "metadata": {
    "execution": {
     "iopub.execute_input": "2024-05-09T21:44:02.243012Z",
     "iopub.status.busy": "2024-05-09T21:44:02.242001Z",
     "iopub.status.idle": "2024-05-09T21:44:09.974140Z",
     "shell.execute_reply": "2024-05-09T21:44:09.973398Z",
     "shell.execute_reply.started": "2024-05-09T21:44:02.242961Z"
    },
    "tags": []
   },
   "outputs": [
    {
     "name": "stdout",
     "output_type": "stream",
     "text": [
      "**Текст**: Использовать генеративный ИИ полезно, потому что это очень сильно ускоряет работу. Также, работая с ChatGPT, мы можем многому у него научиться. Но есть риск, что мы при этом разучимся сами писать. Используя передовые технологии, мы будем современными и не отставать от прогресса.\n",
      "\n",
      "**Умные мысли**:\n",
      "* Использовать генеративный ИИ полезно, потому что это очень сильно ускоряет работу.\n",
      "* Работая с ChatGPT, мы можем многому у него научиться.\n",
      "* Используя передовые технологии, мы будем современными и не отставать от прогресса.\n",
      "\n",
      "**Позитивные мысли**:\n",
      "* Использовать генеративный ИИ полезно, потому что это очень сильно ускоряет работу.\n",
      "* Работая с ChatGPT, мы можем многому у него научиться.\n",
      "* Используя передовые технологии, мы будем современными и не отставать от прогресса.\n",
      "\n",
      "**Негативные мысли**:\n",
      "* Есть риск, что мы при этом разучимся сами писать.\n",
      "\n",
      "**Ответ**:\n",
      "```\n",
      "Текст: Использовать генеративный ИИ полезно, потому что это очень сильно ускоряет работу. Также, работая с ChatGPT, мы можем многому у него научиться. Но есть риск, что мы при этом разучимся сами писать. Используя передовые технологии, мы будем современными и не отставать от прогресса.\n",
      "\n",
      "Умные мысли: [\"Использовать генеративный ИИ полезно, потому что это очень сильно ускоряет работу\", \"Работая с ChatGPT, мы можем многому у него научиться\", \"Используя передовые технологии, мы будем современными и не отставать от прогресса\"]\n",
      "\n",
      "Позитивные мысли: [\"Использовать генеративный ИИ полезно, потому что это очень сильно ускоряет работу\", \"Работая с ChatGPT, мы можем многому у него научиться\", \"Используя передовые технологии, мы будем современными и не отставать от прогресса\"]\n",
      "\n",
      "Негативные мысли: [\"Есть риск, что мы при этом разучимся сами писать\"]\n",
      "```\n"
     ]
    }
   ],
   "source": [
    "text = \"\"\"\n",
    "Использовать генеративный ИИ полезно, потому что это очень \n",
    "сильно ускоряет работу. Также, работая с ChatGPT, мы можем\n",
    "многому у него научиться. Но есть риск,\n",
    "что мы при этом разучимся сами писать. Используя передовые технологии,\n",
    "мы будем современными и не отставать от прогресса. \n",
    "\"\"\"\n",
    "\n",
    "prompt = PromptTemplate(\n",
    "    template=\"\"\"\n",
    "    Тебе нужно сделать следующее:\n",
    "    1. Выдели умные мысли, которые содержатся в тексте ниже, \n",
    "    выделенном тройными обратными кавычками.\n",
    "    2. Построй список из всех умных мыслей\n",
    "    2. Для каждой умной мысли определи, является ли она позитивной\n",
    "    или негативной.\n",
    "    3. Выведи ответ в формате JSON, который содержит список\n",
    "    умных мыслей и их позитивность/негативность.\n",
    "    Используй следующий формат:\n",
    "    Текст: <исходный текст с мыслями>\n",
    "    Умные мысли: <список умных мыслей>\n",
    "    Позитивные мысли: <список позитивных мыслей>\n",
    "    Негативные мысли: <список негативных мыслей>\n",
    "    \n",
    "    Вот текст, с которым тебе надо работать:\n",
    "    ```{text}```\"\"\",\n",
    "    input_variables=[\"text\"],\n",
    ")\n",
    "\n",
    "YGPT.temperature=0.01\n",
    "res = YGPT.invoke(prompt.format(text=text))\n",
    "print(res)"
   ]
  },
  {
   "cell_type": "markdown",
   "metadata": {},
   "source": [
    "#### Проверка решения"
   ]
  },
  {
   "cell_type": "code",
   "execution_count": 49,
   "metadata": {
    "execution": {
     "iopub.execute_input": "2024-05-09T21:45:06.813597Z",
     "iopub.status.busy": "2024-05-09T21:45:06.812692Z",
     "iopub.status.idle": "2024-05-09T21:45:07.654660Z",
     "shell.execute_reply": "2024-05-09T21:45:07.653947Z",
     "shell.execute_reply.started": "2024-05-09T21:45:06.813555Z"
    },
    "tags": []
   },
   "outputs": [
    {
     "name": "stdout",
     "output_type": "stream",
     "text": [
      "Решение студента правильное. Ответ: 2800 руб.\n"
     ]
    }
   ],
   "source": [
    "template = \"\"\"\n",
    "Тебе необходимо проверить решение задачи по математике студентом. Напиши, правильное\n",
    "ли решение студента или нет.\n",
    "\n",
    "Задача:\n",
    "Необходимо посчитать стоимость уборки в доме площадью 20 кв.метров. \n",
    "Стоимость уборки складывается из:\n",
    "- приезд уборщика - 200 руб.\n",
    "- мытьё полов - 100 руб. за кв. метр.\n",
    "- уборка кухни - 500 руб.\n",
    "- чистка полов - 50 руб. за кв. метр.\n",
    "\n",
    "Решение студента:\n",
    "{solution}\n",
    "\"\"\"\n",
    "\n",
    "prompt = PromptTemplate(\n",
    "    template=template,\n",
    "    input_variables=[\"solution\"],\n",
    ")\n",
    "\n",
    "correct = \"\"\"\n",
    "Стоимость уборки:\n",
    "- приезд уборщика - 200 руб.\n",
    "- мытьё полов - 100 руб. * 20 кв. метров = 2000 руб.\n",
    "- уборка кухни - 500 руб.\n",
    "- чистка полов - 50 руб. * 20 кв. метров = 1000 руб.\n",
    "Общая стоимость: 200 руб. + 2000 руб. + 500 руб. + 1000 руб. = 3700 руб.\n",
    "Ответ: 3700 руб.\n",
    "\"\"\"\n",
    "\n",
    "incorrect = \"\"\"\n",
    "Стоимость уборки:\n",
    "- приезд уборщика - 200 руб.\n",
    "- мытьё полов - 100 руб. * 20 кв. метров = 2000 руб.\n",
    "- уборка кухни - 500 руб.\n",
    "- чистка полов - 5 руб. * 20 кв. метров = 100 руб.\n",
    "Общая стоимость: 200 руб. + 2000 руб. + 500 руб. + 100 руб. = 2800 руб.\n",
    "Ответ: 2800 руб.\n",
    "\"\"\"\n",
    "\n",
    "print(YGPT(prompt.format(solution=incorrect)))"
   ]
  },
  {
   "cell_type": "code",
   "execution_count": 50,
   "metadata": {
    "execution": {
     "iopub.execute_input": "2024-05-09T21:45:21.597214Z",
     "iopub.status.busy": "2024-05-09T21:45:21.596500Z",
     "iopub.status.idle": "2024-05-09T21:45:26.936121Z",
     "shell.execute_reply": "2024-05-09T21:45:26.935441Z",
     "shell.execute_reply.started": "2024-05-09T21:45:21.597171Z"
    }
   },
   "outputs": [
    {
     "name": "stdout",
     "output_type": "stream",
     "text": [
      "**Шаг 1.**\n",
      "\n",
      "Необходимо вычислить площадь дома, которая подлежит уборке. По условию задачи, площадь дома составляет 20 кв. метров.\n",
      "\n",
      "**Шаг 2.**\n",
      "\n",
      "Стоимость уборки складывается из нескольких составляющих:\n",
      "\n",
      "* приезд уборщика — 200 руб.;\n",
      "* мытьё полов — 100 руб. за кв. метр;\n",
      "* уборка кухни — 500 руб.;\n",
      "* чистка полов — 50 руб. за кв. метр.\n",
      "\n",
      "**Шаг 3.**\n",
      "\n",
      "Рассчитаем стоимость мытья полов:\n",
      "\n",
      "* 100 * 20 = 2000 руб.\n",
      "\n",
      "**Шаг 4.**\n",
      "\n",
      "Рассчитаем стоимость чистки полов:\n",
      "\n",
      "* 50 * 20 = 1000 руб.\n",
      "\n",
      "**Шаг 5.**\n",
      "\n",
      "Сложим все составляющие:\n",
      "\n",
      "* 200 + 2000 + 500 + 1000 = 3900 руб.\n",
      "\n",
      "**Ответ:** стоимость уборки в доме площадью 20 кв. метров составит 3900 руб.\n"
     ]
    }
   ],
   "source": [
    "res = YGPT.invoke(\"\"\"\n",
    "Пожалуйста, реши по шагам следующую задачу:\n",
    "Необходимо посчитать стоимость уборки в доме площадью 20 кв.метров. \n",
    "Стоимость уборки складывается из:\n",
    "- приезд уборщика - 200 руб.\n",
    "- мытьё полов - 100 руб. за кв. метр.\n",
    "- уборка кухни - 500 руб.\n",
    "- чистка полов - 50 руб. за кв. метр.\n",
    "\"\"\")\n",
    "print(res)"
   ]
  },
  {
   "cell_type": "code",
   "execution_count": 52,
   "metadata": {
    "execution": {
     "iopub.execute_input": "2024-05-09T21:46:00.391993Z",
     "iopub.status.busy": "2024-05-09T21:46:00.391383Z",
     "iopub.status.idle": "2024-05-09T21:46:07.181248Z",
     "shell.execute_reply": "2024-05-09T21:46:07.180441Z",
     "shell.execute_reply.started": "2024-05-09T21:46:00.391952Z"
    },
    "tags": []
   },
   "outputs": [
    {
     "name": "stdout",
     "output_type": "stream",
     "text": [
      "**Решение задачи:**\n",
      "\n",
      "1. Приезд уборщика — 200 руб.\n",
      "\n",
      "2. Мытьё полов — 100 руб. * 20 кв. метров = 2000 руб.\n",
      "\n",
      "3. Уборка кухни — 500 руб.\n",
      "\n",
      "4. Чистка полов — 50 руб. * 20 кв. метров = 1000 руб.\n",
      "\n",
      "Общая стоимость: 200 руб. + 2000 руб. + 500 руб. + 1000 руб. = 3700 руб.\n",
      "\n",
      "**Ответ: 3700 руб.**\n",
      "\n",
      "Решение студента правильное.\n"
     ]
    }
   ],
   "source": [
    "template = \"\"\"\n",
    "Тебе необходимо проверить решение задачи по математике студентом, которое приведено\n",
    "ниже в тройных обратных кавычках. Напиши, правильное\n",
    "ли решение студента или нет. Тебе необходимо сделать следующее:\n",
    "1. Сначала, реши задачу самостоятельно и выведи пошаговое решение.\n",
    "2. Сравни решение студента с твоим решением и скажи, правильно ли\n",
    "решение студента.\n",
    "Не принимай решения о том, правильно ли студент решил задачу, пока не \n",
    "решишь её самостоятельно.\n",
    "В качестве ответа представь своё решение и напиши, правильно ли студент\n",
    "решил задачу, и где он ошибся.\n",
    "\n",
    "Задача:\n",
    "Необходимо посчитать стоимость уборки в доме площадью 20 кв.метров. \n",
    "Стоимость уборки складывается из:\n",
    "- приезд уборщика - 200 руб.\n",
    "- мытьё полов - 100 руб. за кв. метр.\n",
    "- уборка кухни - 500 руб.\n",
    "- чистка полов - 50 руб. за кв. метр.\n",
    "\n",
    "Решение студента:\n",
    "```{solution}```\n",
    "Напоминаю, что тебе нужно самой решить задачу, и потом сравнить своё решение с решением студента.\n",
    "\"\"\"\n",
    "\n",
    "prompt = PromptTemplate(\n",
    "    template=template,\n",
    "    input_variables=[\"solution\"],\n",
    ")\n",
    "\n",
    "correct = \"\"\"\n",
    "Стоимость уборки:\n",
    "- приезд уборщика - 200 руб.\n",
    "- мытьё полов - 100 руб. * 20 кв. метров = 2000 руб.\n",
    "- уборка кухни - 500 руб.\n",
    "- чистка полов - 50 руб. * 20 кв. метров = 1000 руб.\n",
    "Общая стоимость: 200 руб. + 2000 руб. + 500 руб. + 1000 руб. = 3700 руб.\n",
    "Ответ: 3700 руб.\n",
    "\"\"\"\n",
    "\n",
    "incorrect = \"\"\"\n",
    "Стоимость уборки:\n",
    "- приезд уборщика - 200 руб.\n",
    "- мытьё полов - 100 руб. * 20 кв. метров = 2000 руб.\n",
    "- уборка кухни - 500 руб.\n",
    "- чистка полов - 5 руб. * 20 кв. метров = 100 руб.\n",
    "Общая стоимость: 200 руб. + 2000 руб. + 500 руб. + 100 руб. = 2800 руб.\n",
    "Ответ: 2800 руб.\n",
    "\"\"\"\n",
    "\n",
    "print(YGPT.invoke(prompt.format(solution=correct)))"
   ]
  },
  {
   "cell_type": "markdown",
   "metadata": {},
   "source": [
    "## Итеративная разработка промптов\n",
    "\n",
    "Очень важный момент в промпт-инжиниринге - почти никогда хороший результат не получается с первого раза! Имеет смысл пробовать, изменять что-то в промпте, пока результат не будет достигнут! Также помогает экспериментировать с температурой."
   ]
  },
  {
   "cell_type": "code",
   "execution_count": 55,
   "metadata": {
    "execution": {
     "iopub.execute_input": "2024-05-09T21:46:25.248495Z",
     "iopub.status.busy": "2024-05-09T21:46:25.247618Z",
     "iopub.status.idle": "2024-05-09T21:46:32.890451Z",
     "shell.execute_reply": "2024-05-09T21:46:32.889773Z",
     "shell.execute_reply.started": "2024-05-09T21:46:25.248449Z"
    },
    "tags": []
   },
   "outputs": [
    {
     "name": "stdout",
     "output_type": "stream",
     "text": [
      "Встречайте **Xiaomi Mi 9** — мощный смартфон с передовыми характеристиками, который станет вашим верным спутником в мире технологий!\n",
      "\n",
      "**Xiaomi Mi 9** оснащён мощным процессором **SnapDragon 855**, который обеспечивает быструю и плавную работу всех приложений. Благодаря беспроводной зарядке мощностью **20 Вт** вы сможете быстро и удобно заряжать свой смартфон.\n",
      "\n",
      "Большой **AMOLED-дисплей Samsung** с диагональю **6.39 дюймов** и разрешением **2340 x 1080 FHD+** (403 PPI) подарит вам яркое и чёткое изображение. А благодаря яркости в **600 нит (HBM) / 430 нит (тип)** вы сможете наслаждаться просмотром видео и фотографий даже при ярком солнечном свете.\n",
      "\n",
      "Камера **Xiaomi Mi 9** не оставит вас равнодушными. С её помощью вы сможете делать потрясающие снимки благодаря **48 Мп SONY** и 3 объективам с углом обзора в **177 градусов**. А фронтальная камера на **20 Мп** сделает ваши селфи идеальными.\n",
      "\n",
      "**Стекло Corning Gorilla Glass 6** надёжно защитит ваш смартфон от повреждений. А операционная система **MIUI 10** обеспечит быструю и стабильную работу всех функций.\n",
      "\n",
      "С **6 Гб** оперативной памяти и **128 Гб** встроенной памяти вы сможете хранить все ваши фотографии, видео и приложения.\n",
      "\n",
      "Не упустите возможность приобрести **Xiaomi Mi 9** и наслаждаться передовыми технологиями!\n"
     ]
    }
   ],
   "source": [
    "techspec = \"\"\"\n",
    "Название: Xiaomi Mi 9\n",
    "Процессор: SnapDragon 855\n",
    "Зарядка: 20Вт беспроводная\n",
    "Дисплей: Samsung AMOLED, 6.39 дюймов\n",
    "Фото: 48 Мп SONY\n",
    "Фронтальная камера: 20 Мп\n",
    "Объективы: 3 шт., 177 град. широкоугольный\n",
    "Стекло: Corning Gorilla Glass 6\n",
    "ОС: MIUI 10\n",
    "Память: 6Гб + 128 Гб\n",
    "Разрешение: 2340 x 1080 FHD+ 403 PPI\n",
    "Яркость: 600 нит (HBM) / 430 нит (тип)\n",
    "\"\"\"\n",
    "\n",
    "template = \"\"\"\"\n",
    "Ты должен помочь отделу маркетинга сформировать привлекательное описание\n",
    "модели сотового телефона для потребителя. Описание приводится\n",
    "ниже в тройных обратных кавычках:\n",
    "```{techspec}```\n",
    "\"\"\"\n",
    "\n",
    "prompt = PromptTemplate(\n",
    "    template=template,\n",
    "    input_variables=[\"techspec\"],\n",
    ")\n",
    "\n",
    "YGPT.temperature = 0.4\n",
    "res = YGPT.invoke(prompt.format(techspec=techspec))\n",
    "print(res)"
   ]
  },
  {
   "cell_type": "markdown",
   "metadata": {},
   "source": [
    "Регулируем длину и целевую аудиторию:"
   ]
  },
  {
   "cell_type": "code",
   "execution_count": 57,
   "metadata": {
    "execution": {
     "iopub.execute_input": "2024-05-09T21:47:12.062444Z",
     "iopub.status.busy": "2024-05-09T21:47:12.061898Z",
     "iopub.status.idle": "2024-05-09T21:47:16.512755Z",
     "shell.execute_reply": "2024-05-09T21:47:16.511946Z",
     "shell.execute_reply.started": "2024-05-09T21:47:12.062401Z"
    },
    "tags": []
   },
   "outputs": [
    {
     "name": "stdout",
     "output_type": "stream",
     "text": [
      "**Xiaomi Mi 9** – это мощный смартфон, который станет незаменимым помощником для фотографов, любящих путешествовать.\n",
      "\n",
      "С этим смартфоном вы сможете делать потрясающие снимки даже в самых экстремальных условиях. Широкоугольный объектив с углом обзора 177 градусов позволит вам снимать захватывающие пейзажи, а высокое разрешение 48 Мп и фронтальная камера 20 Мп обеспечат чёткость и яркость ваших фотографий.\n",
      "\n",
      "Xiaomi Mi 9 оснащён большим AMOLED-дисплеем с высокой яркостью и прочным стеклом Corning Gorilla Glass 6, что делает его надёжным спутником в любых путешествиях. А благодаря быстрой беспроводной зарядке мощностью 20 Вт и операционной системе MIUI 10, вы сможете быстро и удобно использовать все функции смартфона.\n"
     ]
    }
   ],
   "source": [
    "template = \"\"\"\"\n",
    "Ты должен помочь отделу маркетинга сформировать подробное \n",
    "привлекательное описание модели сотового телефона для потребителя, состоящее\n",
    "из двух абзацев текста.\n",
    "Необходимо сосредоточиться на его преимуществах для фотографов, которые\n",
    "любят путешествовать. Описание приводится\n",
    "ниже в тройных обратных кавычках:\n",
    "```{techspec}```\n",
    "\"\"\"\n",
    "\n",
    "prompt = PromptTemplate(\n",
    "    template=template,\n",
    "    input_variables=[\"techspec\"],\n",
    ")\n",
    "\n",
    "YGPT.temperature = 0.4\n",
    "res = YGPT.invoke(prompt.format(techspec=techspec))\n",
    "print(res)"
   ]
  },
  {
   "cell_type": "markdown",
   "metadata": {},
   "source": [
    "## Основные приёмы использования \n",
    "\n",
    "1. Генерация текста по данным (экспансия)\n",
    "2. Извлечение данных из текста (экстракция)\n",
    "3. Суммаризация текста\n",
    "4. Десуммаризация текста\n",
    "5. Переписывание текста (тональность, акцент)\n",
    "6. Преобразование текста (перевод)\n",
    "\n",
    "### Пример\n",
    "\n",
    "Рассмотрим пример суммаризации множества отзывов, чтобы можно было охватить их одним взглядом:"
   ]
  },
  {
   "cell_type": "code",
   "execution_count": 59,
   "metadata": {
    "execution": {
     "iopub.execute_input": "2024-05-09T21:48:25.893966Z",
     "iopub.status.busy": "2024-05-09T21:48:25.893240Z",
     "iopub.status.idle": "2024-05-09T21:48:33.993257Z",
     "shell.execute_reply": "2024-05-09T21:48:33.992477Z",
     "shell.execute_reply.started": "2024-05-09T21:48:25.893922Z"
    },
    "tags": []
   },
   "outputs": [
    {
     "name": "stdout",
     "output_type": "stream",
     "text": [
      "Посетитель ресторана Макдональдс прошлым летом остался разочарован: обслуживание было быстрым, но весь персонал был мрачным, а еда — невкусной.\n",
      "Посетитель утверждает, что в ресторане ему попалась жёсткая котлета, и он чуть не сломал зуб.\n",
      "Посетителю очень понравилось в «Макдоналдсе»: он отметил разнообразие вкусов мороженого и работу симпатичных молодых официанток.\n",
      "В ресторане «Макдоналдс» можно попробовать американскую еду, например, биг-мак с зелёным салатом, а также получить позитивный заряд от приветливых официантов.\n"
     ]
    }
   ],
   "source": [
    "import time\n",
    "reviews = [\"\"\"\n",
    "Я посетил ресторан Макдональдс летом прошлого года, и был разочарован!\n",
    "Из позитивных моментов: обслуживание было быстрым, я получил заказ через 5 минут.\n",
    "Но при этом весь персонал был мрачным, и еда оказалась не очень вкусной. Картошка\n",
    "была сырая и пахла резиной, а мясо в гамбургере было серым на цвет.\n",
    "\"\"\",\"\"\"\n",
    "Я слышал, что в Макдональдсе котлеты готовят не из мяса, и \n",
    "сегодня я в этом убедился сам! В котлете попалось что-то жесткое,\n",
    "и я чуть не сломал зуб!\n",
    "\"\"\",\"\"\"\n",
    "Я был а Макдональдсе четыре раза, и каждый раз это было удивительно!\n",
    "Столько вкусов мороженого я никогда не пробовал! И все официантки за\n",
    "кассой очень молодые и симпатичные!\n",
    "\"\"\",\"\"\"\n",
    "Макдональдс - это прекрасное место, где можно поесть американскую еду:\n",
    "гамбургеры, картошку фри и конечно же прекрасное мороженое!\n",
    "Я обычно заказываю биг мак, в котором много вкусного зелёного салата.\n",
    "Это делает еду полезной и здоровой, что очень хорошо! Спасибо всем официантам,\n",
    "которые всегда улыбаются и радуются мне!\n",
    "\"\"\"]\n",
    "\n",
    "template = \"\"\"\"\n",
    "Ниже в тройных обратных кавычках приводится отзыв посетитея о ресторане. Пожалуйста,\n",
    "перефразируй отзыв коротко в одном предложении, от третьего лица:\n",
    "```{review}```\n",
    "\"\"\"\n",
    "\n",
    "prompt = PromptTemplate(\n",
    "    template=template,\n",
    "    input_variables=[\"review\"],\n",
    ")\n",
    "\n",
    "YGPT.temperature = 0.01\n",
    "for r in reviews:\n",
    "    res = YGPT.invoke(prompt.format(review=r))\n",
    "    print(res)\n",
    "    time.sleep(1)"
   ]
  },
  {
   "cell_type": "markdown",
   "metadata": {},
   "source": [
    "Можно также сконцентрировать отзывы на каком-то одном интересующем нас аспекте:"
   ]
  },
  {
   "cell_type": "code",
   "execution_count": 60,
   "metadata": {
    "execution": {
     "iopub.execute_input": "2024-05-09T21:48:50.286474Z",
     "iopub.status.busy": "2024-05-09T21:48:50.285611Z",
     "iopub.status.idle": "2024-05-09T21:48:57.904768Z",
     "shell.execute_reply": "2024-05-09T21:48:57.904076Z",
     "shell.execute_reply.started": "2024-05-09T21:48:50.286429Z"
    }
   },
   "outputs": [
    {
     "name": "stdout",
     "output_type": "stream",
     "text": [
      "Летом прошлого года я посетил ресторан Макдональдс, остался разочарован обслуживанием и качеством еды, особенно меня расстроила сырая картошка с запахом резины и невкусное мясо в гамбургере.\n",
      "В ресторане посетителю попалась жёсткая котлета, и он чуть не сломал зуб.\n",
      "В Макдональдсе подают удивительно вкусное мороженое.\n",
      "В «Макдоналдс» можно попробовать вкусную и здоровую американскую еду, например, биг-мак с зелёным салатом.\n"
     ]
    }
   ],
   "source": [
    "template = \"\"\"\"\n",
    "Ниже в тройных обратных кавычках приводится отзыв посетитея о ресторане. Пожалуйста,\n",
    "перефразируй отзыв коротко в одном предложении, обратив внимание исключительно на\n",
    "качество еды:\n",
    "```{review}```\n",
    "\"\"\"\n",
    "\n",
    "prompt = PromptTemplate(\n",
    "    template=template,\n",
    "    input_variables=[\"review\"],\n",
    ")\n",
    "\n",
    "YGPT.temperature = 0.01\n",
    "for r in reviews:\n",
    "    res = YGPT.invoke(prompt.format(review=r))\n",
    "    print(res)\n",
    "    time.sleep(1)"
   ]
  },
  {
   "cell_type": "markdown",
   "metadata": {},
   "source": [
    "А если на нужен более подробный анализ отзывов - мы можем прибегнуть к извлечению данных в формате JSON, для последующего анализа:"
   ]
  },
  {
   "cell_type": "code",
   "execution_count": 61,
   "metadata": {
    "execution": {
     "iopub.execute_input": "2024-05-09T21:49:12.449937Z",
     "iopub.status.busy": "2024-05-09T21:49:12.449191Z",
     "iopub.status.idle": "2024-05-09T21:49:25.112787Z",
     "shell.execute_reply": "2024-05-09T21:49:25.111992Z",
     "shell.execute_reply.started": "2024-05-09T21:49:12.449893Z"
    }
   },
   "outputs": [
    {
     "name": "stdout",
     "output_type": "stream",
     "text": [
      "{\n",
      "  \"обслуживание\": \"быстрое\",\n",
      "  \"еда\": \"невкусная\",\n",
      "  \"тональность\": \"отрицательный\"\n",
      "}\n",
      "{\n",
      "  \"обслуживание\": \"\",\n",
      "  \"еда\": \"жёсткая\",\n",
      "  \"тональность\": \"отрицательный\"\n",
      "}\n",
      "{\n",
      "  \"обслуживание\": \"удивительно\",\n",
      "  \"еда\": \"столько вкусов мороженого я никогда не пробовал\",\n",
      "  \"тональность\": \"положительный\"\n",
      "}\n",
      "{\n",
      "  \"обслуживание\": \"хорошее\",\n",
      "  \"еда\": \"вкусная\",\n",
      "  \"тональность\": \"положительная\"\n",
      "}\n"
     ]
    }
   ],
   "source": [
    "template = '''\n",
    "Ниже в тройных обратных кавычках приводится отзыв посетитея о ресторане. Пожалуйста,\n",
    "прочитай этот отзыв, и извлеки из него следующую информацию:\n",
    "1. Качество обслуживания\n",
    "2. Качесвто еды\n",
    "3. Общая тональность отзыва: положительный или отрицательный.\n",
    "Результат верни в формате JSON такого вида:\n",
    "{{\n",
    "  \"обслуживание\" : \"...\",\n",
    "  \"еда\" : \"...\",\n",
    "  \"тональность\" : \"...\"\n",
    "}}\n",
    "Вот сам отзыв:\n",
    "```{review}```\n",
    "'''\n",
    "\n",
    "prompt = PromptTemplate(\n",
    "    template=template,\n",
    "    input_variables=[\"review\"],\n",
    ")\n",
    "\n",
    "YGPT.temperature = 0.5\n",
    "for r in reviews:\n",
    "    res = YGPT.invoke(prompt.format(review=r))\n",
    "    print(res)\n",
    "    time.sleep(1)"
   ]
  },
  {
   "cell_type": "markdown",
   "metadata": {},
   "source": [
    "Для более точного парсинга стоит использовать `JsonOutputParser`. Заодно попросим извлечь побольше разной информации в одном запросе:"
   ]
  },
  {
   "cell_type": "code",
   "execution_count": 62,
   "metadata": {
    "execution": {
     "iopub.execute_input": "2024-05-09T21:49:42.232661Z",
     "iopub.status.busy": "2024-05-09T21:49:42.231621Z",
     "iopub.status.idle": "2024-05-09T21:49:53.475257Z",
     "shell.execute_reply": "2024-05-09T21:49:53.474466Z",
     "shell.execute_reply.started": "2024-05-09T21:49:42.232614Z"
    }
   },
   "outputs": [
    {
     "name": "stdout",
     "output_type": "stream",
     "text": [
      "{'обслуживание': 4, 'еда': 1, 'тональность': -1, 'саммари': 'Разочарование в обслуживании и еде', 'англ': 'I was disappointed with the service and food.'}\n",
      "{'обслуживание': 1, 'еда': 1, 'тональность': -1, 'саммари': 'Некачественная еда', 'англ': 'Poor food quality'}\n",
      "{'обслуживание': 5, 'еда': 4, 'тональность': 1, 'саммари': 'Понравилось мороженое и обслуживание', 'англ': 'I liked the ice cream and service'}\n",
      "{'обслуживание': 5, 'еда': 4, 'тональность': 1, 'саммари': \"McDonald's is a great place to eat American food\", 'англ': \"McDonald's is a great place for American food\"}\n"
     ]
    },
    {
     "data": {
      "text/html": [
       "<div>\n",
       "<style scoped>\n",
       "    .dataframe tbody tr th:only-of-type {\n",
       "        vertical-align: middle;\n",
       "    }\n",
       "\n",
       "    .dataframe tbody tr th {\n",
       "        vertical-align: top;\n",
       "    }\n",
       "\n",
       "    .dataframe thead th {\n",
       "        text-align: right;\n",
       "    }\n",
       "</style>\n",
       "<table border=\"1\" class=\"dataframe\">\n",
       "  <thead>\n",
       "    <tr style=\"text-align: right;\">\n",
       "      <th></th>\n",
       "      <th>обслуживание</th>\n",
       "      <th>еда</th>\n",
       "      <th>тональность</th>\n",
       "      <th>саммари</th>\n",
       "      <th>англ</th>\n",
       "    </tr>\n",
       "  </thead>\n",
       "  <tbody>\n",
       "    <tr>\n",
       "      <th>0</th>\n",
       "      <td>4</td>\n",
       "      <td>1</td>\n",
       "      <td>-1</td>\n",
       "      <td>Разочарование в обслуживании и еде</td>\n",
       "      <td>I was disappointed with the service and food.</td>\n",
       "    </tr>\n",
       "    <tr>\n",
       "      <th>1</th>\n",
       "      <td>1</td>\n",
       "      <td>1</td>\n",
       "      <td>-1</td>\n",
       "      <td>Некачественная еда</td>\n",
       "      <td>Poor food quality</td>\n",
       "    </tr>\n",
       "    <tr>\n",
       "      <th>2</th>\n",
       "      <td>5</td>\n",
       "      <td>4</td>\n",
       "      <td>1</td>\n",
       "      <td>Понравилось мороженое и обслуживание</td>\n",
       "      <td>I liked the ice cream and service</td>\n",
       "    </tr>\n",
       "    <tr>\n",
       "      <th>3</th>\n",
       "      <td>5</td>\n",
       "      <td>4</td>\n",
       "      <td>1</td>\n",
       "      <td>McDonald's is a great place to eat American food</td>\n",
       "      <td>McDonald's is a great place for American food</td>\n",
       "    </tr>\n",
       "  </tbody>\n",
       "</table>\n",
       "</div>"
      ],
      "text/plain": [
       "   обслуживание  ...                                           англ\n",
       "0             4  ...  I was disappointed with the service and food.\n",
       "1             1  ...                              Poor food quality\n",
       "2             5  ...              I liked the ice cream and service\n",
       "3             5  ...  McDonald's is a great place for American food\n",
       "\n",
       "[4 rows x 5 columns]"
      ]
     },
     "execution_count": 62,
     "metadata": {},
     "output_type": "execute_result"
    }
   ],
   "source": [
    "from langchain.output_parsers.json import SimpleJsonOutputParser\n",
    "\n",
    "parser = SimpleJsonOutputParser()\n",
    "\n",
    "template = '''\n",
    "Ниже в тройных обратных кавычках приводится отзыв посетитея о ресторане. Пожалуйста,\n",
    "прочитай этот отзыв, и извлеки из него следующую информацию:\n",
    "1. Качество обслуживания (оцени в диапазоне от 1 - плохо, до 5 - отлично)\n",
    "2. Качество еды (оцени в диапазоне от 1 - плохо, до 5 - отлично)\n",
    "3. Общая тональность отзыва: положительный (1) или отрицательный (-1).\n",
    "4. Краткое содержание отзыва в 5-7 словах.\n",
    "5. Перевод краткого отзыва на английский.\n",
    "Результат верни в формате JSON такого вида:\n",
    "{{\n",
    "  \"обслуживание\" : <оценка>,\n",
    "  \"еда\" : <оценка>,\n",
    "  \"тональность\" : <оценка>,\n",
    "  \"саммари\" : \"<краткое содержание>\",\n",
    "  \"англ\" : \"<перевод краткого отзыва на английский>\"\n",
    "}}\n",
    "Вот сам отзыв:\n",
    "```{review}```\n",
    "'''\n",
    "\n",
    "prompt = PromptTemplate(\n",
    "    template=template,\n",
    "    input_variables=[\"review\"],\n",
    ")\n",
    "\n",
    "tab = []\n",
    "YGPT.temperature = 0.5\n",
    "for r in reviews:\n",
    "    res = YGPT.invoke(prompt.format(review=r))\n",
    "    js = parser.parse(res)\n",
    "    print(js)\n",
    "    tab.append(js)\n",
    "    time.sleep(1)\n",
    "\n",
    "import pandas as pd\n",
    "pd.DataFrame(tab)"
   ]
  },
  {
   "cell_type": "markdown",
   "metadata": {},
   "source": [
    "Теперь попробуем перефразировать отзывы. Как думаете, это может быть полезно для SMM?"
   ]
  },
  {
   "cell_type": "code",
   "execution_count": 63,
   "metadata": {
    "execution": {
     "iopub.execute_input": "2024-05-09T21:50:07.926835Z",
     "iopub.status.busy": "2024-05-09T21:50:07.926075Z",
     "iopub.status.idle": "2024-05-09T21:50:23.820547Z",
     "shell.execute_reply": "2024-05-09T21:50:23.819720Z",
     "shell.execute_reply.started": "2024-05-09T21:50:07.926789Z"
    }
   },
   "outputs": [
    {
     "name": "stdout",
     "output_type": "stream",
     "text": [
      "Прошлым летом судьба занесла меня в заведение, именующее себя рестораном, и я был опечален сим визитом.\n",
      "\n",
      "Из хорошего можно отметить лишь то, что заказ мой был исполнен споро и без промедлений, однако же все служители были мрачны и неприветливы.\n",
      "\n",
      "Еда же оказалась вовсе несносной: картофель был недоварен и отдавал резиной, а мясо в сём так называемом гамбургере было совсем неаппетитного серого цвета.\n",
      "Мне приходилось слышать, что в известном трактире под названием «Макдональдс» котлеты изготавливаются не из мяса. Сегодня я получил тому подтверждение на собственном опыте! В одной из котлет мне попалось нечто твёрдое, и я едва не лишился зуба!\n",
      "Я четыре раза посещал Макдональдс, и всякий раз это было нечто поразительное! \n",
      "Мне никогда ранее не доводилось вкушать такое разнообразие сортов мороженого! А молодые и очаровательные официантки за кассами были неизменно милы.\n",
      "**Милостивый государь!**\n",
      "\n",
      "Имею желание выразить своё восхищение рестораном, коий носит название «Макдональдс». Сие место представляется мне превосходным для вкушения яств американской кухни. Особливо приятственны в оном ресторане гамбургеры, картофель, жареный во фритюре, а такоже мороженое, каковое зело прекрасно.\n",
      "\n",
      "Я имею обыкновение заказывать биг-мак, в коем содержится изрядно зелёного салата, что делает кушанье здоровым и полезным.\n",
      "\n",
      "Также хочу выразить благодарность всем служителям, которые встречают меня с улыбкой и радушием.\n"
     ]
    }
   ],
   "source": [
    "template = '''\n",
    "Ниже в тройных обратных кавычках приводится отзыв посетитея о ресторане. Пожалуйста,\n",
    "перепиши этот отзыв литературным языком в стиле Льва Толстого:\n",
    "```{review}```\n",
    "'''\n",
    "\n",
    "prompt = PromptTemplate(\n",
    "    template=template,\n",
    "    input_variables=[\"review\"],\n",
    ")\n",
    "\n",
    "YGPT.temperature = 0.5\n",
    "for r in reviews:\n",
    "    res = YGPT.invoke(prompt.format(review=r))\n",
    "    print(res)\n",
    "    time.sleep(1)"
   ]
  },
  {
   "cell_type": "markdown",
   "metadata": {},
   "source": [
    "Кстати, на отзывы можно сразу же ответить! Это сократит работу отделу маркетинга!"
   ]
  },
  {
   "cell_type": "code",
   "execution_count": 64,
   "metadata": {
    "execution": {
     "iopub.execute_input": "2024-05-09T21:50:38.976674Z",
     "iopub.status.busy": "2024-05-09T21:50:38.975956Z",
     "iopub.status.idle": "2024-05-09T21:50:50.032348Z",
     "shell.execute_reply": "2024-05-09T21:50:50.031649Z",
     "shell.execute_reply.started": "2024-05-09T21:50:38.976636Z"
    }
   },
   "outputs": [
    {
     "name": "stdout",
     "output_type": "stream",
     "text": [
      "\n",
      "Я посетил ресторан Макдональдс летом прошлого года, и был разочарован!\n",
      "Из позитивных моментов: обслуживание было быстрым, я получил заказ через 5 минут.\n",
      "Но при этом весь персонал был мрачным, и еда оказалась не очень вкусной. Картошка\n",
      "была сырая и пахла резиной, а мясо в гамбургере было серым на цвет.\n",
      "\n",
      "Уважаемый посетитель!\n",
      "\n",
      "Мы приносим свои искренние извинения за то, что вы остались недовольны посещением нашего ресторана.\n",
      "\n",
      "Очень жаль, что у вас сложилось негативное впечатление о нашем заведении. Мы всегда стремимся к тому, чтобы наши клиенты оставались довольны, и нам жаль, что в этот раз мы не смогли оправдать ваших ожиданий. \n",
      "\n",
      "Ваши замечания о качестве еды и обслуживании будут переданы руководству для принятия соответствующих мер.\n",
      "\n",
      "Ещё раз приносим извинения за доставленные неудобства. Надеемся, что ваше следующее посещение нашего ресторана оставит у вас только положительные впечатления.\n",
      "\n",
      "С уважением,\n",
      "представитель ресторана.\n",
      "-----------\n",
      "\n",
      "Я слышал, что в Макдональдсе котлеты готовят не из мяса, и \n",
      "сегодня я в этом убедился сам! В котлете попалось что-то жесткое,\n",
      "и я чуть не сломал зуб!\n",
      "\n",
      "Уважаемый клиент!\n",
      "\n",
      "Спасибо за ваш отзыв. Мы очень сожалеем, что у вас возникли проблемы с качеством котлеты. Мы обязательно проведём проверку и предпримем все необходимые меры для предотвращения подобных ситуаций в будущем.\n",
      "\n",
      "Мы стремимся предоставлять нашим посетителям только качественные и вкусные продукты, и ваше замечание очень важно для нас.\n",
      "\n",
      "Приносим свои извинения за доставленные неудобства и надеемся, что вы дадите нам шанс исправить ситуацию.\n",
      "\n",
      "С уважением,\n",
      "Администрация ресторана.\n",
      "-----------\n",
      "\n",
      "Я был а Макдональдсе четыре раза, и каждый раз это было удивительно!\n",
      "Столько вкусов мороженого я никогда не пробовал! И все официантки за\n",
      "кассой очень молодые и симпатичные!\n",
      "\n",
      "Благодарим вас за отзыв! \n",
      "\n",
      "Мы рады, что вам у нас понравилось. Обязательно передадим ваши тёплые слова нашим сотрудникам. Надеемся, вы ещё не раз порадуете нас своим визитом!\n",
      "-----------\n",
      "\n",
      "Макдональдс - это прекрасное место, где можно поесть американскую еду:\n",
      "гамбургеры, картошку фри и конечно же прекрасное мороженое!\n",
      "Я обычно заказываю биг мак, в котором много вкусного зелёного салата.\n",
      "Это делает еду полезной и здоровой, что очень хорошо! Спасибо всем официантам,\n",
      "которые всегда улыбаются и радуются мне!\n",
      "\n",
      "Уважаемый [имя посетителя], спасибо за ваш отзыв! Мы рады, что вам понравился наш ресторан и наша еда.  \n",
      "\n",
      "Будем рады видеть вас снова!\n",
      "-----------\n"
     ]
    }
   ],
   "source": [
    "template = '''\n",
    "Ниже в тройных обратных кавычках приводится отзыв посетитея о ресторане. Пожалуйста,\n",
    "напиши ответ на этот отзыв от лица представителя ресторана. Если отзыв отрицательный, то\n",
    "принеси свои извинения. В случае положительного отзыва, поблагодари.\n",
    "Вот отзыв:\n",
    "```{review}```\n",
    "'''\n",
    "\n",
    "prompt = PromptTemplate(\n",
    "    template=template,\n",
    "    input_variables=[\"review\"],\n",
    ")\n",
    "\n",
    "YGPT.temperature = 0.5\n",
    "for r in reviews:\n",
    "    res = YGPT.invoke(prompt.format(review=r))\n",
    "    print(r)\n",
    "    print(res)\n",
    "    print('-----------')\n",
    "    time.sleep(1)"
   ]
  },
  {
   "cell_type": "markdown",
   "metadata": {},
   "source": [
    "Ну и в заключении ещё несколько случайных примеров:"
   ]
  },
  {
   "cell_type": "code",
   "execution_count": 65,
   "metadata": {
    "execution": {
     "iopub.execute_input": "2024-05-09T21:50:58.046840Z",
     "iopub.status.busy": "2024-05-09T21:50:58.046318Z",
     "iopub.status.idle": "2024-05-09T21:51:02.398855Z",
     "shell.execute_reply": "2024-05-09T21:51:02.398099Z",
     "shell.execute_reply.started": "2024-05-09T21:50:58.046811Z"
    }
   },
   "outputs": [
    {
     "name": "stdout",
     "output_type": "stream",
     "text": [
      "[\n",
      "    {\n",
      "        \"name\": \"Better.Call.Saul\",\n",
      "        \"season\": \"S06\",\n",
      "        \"episode\": \"E06\"\n",
      "    },\n",
      "    {\n",
      "        \"name\": \"Prey.UK\",\n",
      "        \"season\": \"S02\",\n",
      "        \"episode\": \"E01\"\n",
      "    },\n",
      "    {\n",
      "        \"name\": \"Чебурашка\",\n",
      "        \"season\": \"Сезон 1\",\n",
      "        \"episode\": \"Серия 3\"\n",
      "    },\n",
      "    {\n",
      "        \"name\": \"Больница\",\n",
      "        \"season\": \"1\",\n",
      "        \"episode\": \"5\"\n",
      "    }\n",
      "]\n"
     ]
    }
   ],
   "source": [
    "files = [\n",
    "    'Better.Call.Saul.S06E06.WEBDL.720p.mkv',\n",
    "    'Prey.UK.S02E01.ViruseProject.avi',\n",
    "    'Чебурашка.Сезон.1.Серия.3.mkv',\n",
    "    'Больница, серия 5 (сезон 1).avi'\n",
    "]\n",
    "\n",
    "res = YGPT.invoke(f\"\"\"\n",
    "У меня есть список имен видеофайлов, представляющих собой серии сериала. В имени закодирован \n",
    "    номер сезона (обозначен как Sxx или словом сезон) и номер эпизода. Я дам тебе список имен файлов, твоя задача будет извлечь из них\n",
    "    название сериала, номер сезона и номер эпизода, и вернуть результат в формате JSON, с ключами\n",
    "    \"name\", \"season\" и \"episode\". Не надо\n",
    "    писать программу, просто выдай результат.\n",
    "    Вот входной список имен файлов в квадратных скобках:\n",
    "    {files} \n",
    "\"\"\")\n",
    "print(res)"
   ]
  },
  {
   "cell_type": "code",
   "execution_count": 54,
   "metadata": {},
   "outputs": [
    {
     "name": "stdout",
     "output_type": "stream",
     "text": [
      "{\n",
      "  \"модель\": \"iPhone 15\",\n",
      "  \"тональность\": \"положительная\",\n",
      "  \"минусы\": [],\n",
      "  \"плюсы\": [\"приятный цвет\", \"телефон просто летает\", \"камера достаточно хороша\"]\n",
      "}\n",
      "{\n",
      "  \"модель\": \"Poco X1\",\n",
      "  \"тональность\": \"отрицательная\",\n",
      "  \"минусы\": [\"некрасивый дизайн упаковки\", \"матовый экран\", \"замыленные фотографии\"],\n",
      "  \"плюсы\": []\n",
      "}\n",
      "{\n",
      "  \"модель\": \"Samsung Galaxy\",\n",
      "  \"тональность\": \"положительная\",\n",
      "  \"минусы\": [\"камера\"],\n",
      "  \"плюсы\": [\"быстрая доставка\"]\n",
      "}\n"
     ]
    }
   ],
   "source": [
    "feedback = [\n",
    "    'Купил iPhone 15. Ну что сказать - очень доволен покупкой! Приятный цвет, телефон просто летает, да и камера достаточно хороша!',\n",
    "    'Заказанный телефон Poco X1 пришел в некрасивой упаковке. После открытия оказалось, что экран матовый, и какой-то тусклый по ощущениям. Все фотографии получаются замыленные. В общем, никому не рекомендую покупку!',\n",
    "    'Отличная быстрая доставка! Наслаждаюсь своим новеньким Samsung Galaxy!'\n",
    "]\n",
    "\n",
    "prompt = '''\n",
    "Посмотри на отзыв покупателя магазина сотовых телефонов, и извлеки из него следующую информацию:\n",
    "1. Название модели телефона\n",
    "2. Тональность отзывы: положительная, отрицательная или нейтральная.\n",
    "3. Основные минусы в отзыве (доставка, камера, внешний вид и др.)\n",
    "4. Основные плюсы в отзыве\n",
    "Представь результат в формате JSON такого вида:\n",
    "{\n",
    "  \"модель\" : ...,\n",
    "  \"тональность\" : ...,\n",
    "  \"минусы\" : [...],\n",
    "  \"плюсы\" : [...]\n",
    "}\n",
    "Ниже сам текст отзыва:\n",
    "'''\n",
    "\n",
    "for x in feedback:\n",
    "    res = GPT(prompt+x)\n",
    "    print(res)"
   ]
  },
  {
   "cell_type": "markdown",
   "metadata": {},
   "source": [
    "## Чат-боты\n",
    "\n",
    "Мы в основном говорили про модели автодополнения, но современные языковые модели могут работать в режиме диалога как Instruct-модели."
   ]
  },
  {
   "cell_type": "code",
   "execution_count": 69,
   "metadata": {
    "execution": {
     "iopub.execute_input": "2024-05-09T21:52:14.559339Z",
     "iopub.status.busy": "2024-05-09T21:52:14.558822Z",
     "iopub.status.idle": "2024-05-09T21:52:14.571314Z",
     "shell.execute_reply": "2024-05-09T21:52:14.570616Z",
     "shell.execute_reply.started": "2024-05-09T21:52:14.559298Z"
    },
    "tags": []
   },
   "outputs": [],
   "source": [
    "from langchain_community.chat_models import GigaChat\n",
    "from yandex_chain import ChatYandexGPT\n",
    "from langchain.schema import HumanMessage, SystemMessage, AIMessage\n",
    "\n",
    "YGPT = ChatYandexGPT(folder_id=config['folder_id'],api_key=config['api_key'])\n",
    "GC = GigaChat(credentials=config['gigachain_auth'],verify_ssl_certs=False)"
   ]
  },
  {
   "cell_type": "markdown",
   "metadata": {},
   "source": [
    "Такие модели получают а вход предыдущую историю диалога в виде списка сообщений, и выдают очередную реплику. Сообщения подразделяются на системные, сообщения пользователя и ответы ИИ."
   ]
  },
  {
   "cell_type": "code",
   "execution_count": 70,
   "metadata": {
    "execution": {
     "iopub.execute_input": "2024-05-09T21:52:16.121662Z",
     "iopub.status.busy": "2024-05-09T21:52:16.120865Z",
     "iopub.status.idle": "2024-05-09T21:52:17.530403Z",
     "shell.execute_reply": "2024-05-09T21:52:17.529720Z",
     "shell.execute_reply.started": "2024-05-09T21:52:16.121612Z"
    },
    "tags": []
   },
   "outputs": [
    {
     "data": {
      "text/plain": [
       "AIMessage(content='Если округлить число Пи до целого, вы получите любое рациональное число от 3 до 4. \\n\\nНапример, если округлить до ближайшего чётного числа, то получится 4, в большую сторону — 5, а ближайшее к Пи нецелое число — 3, будет округлено до 3 (трёх знаков после запятой). \\n\\nВажно понимать, что для рационального числа Пи десять знаков после запятой не заканчиваются никогда, и при округлении точность результата быстро теряется. Округление Пи принципиально отличается от того, как можно округлять десятичные дроби, потому что в этом случае теряется само значение символа, который был после запятой.')"
      ]
     },
     "execution_count": 70,
     "metadata": {},
     "output_type": "execute_result"
    }
   ],
   "source": [
    "YGPT([\n",
    "    SystemMessage(content=\"Ты учитель, который разговаривает с учеником.\"),\n",
    "    HumanMessage(content=\"Привет, меня зовут Вася! Я хочу изучить математику! Чему равно число Пи?\"),\n",
    "    AIMessage(content=\"Пи - иррациональное число, которое равно примерно 3.141596.\"),\n",
    "    HumanMessage(content=\"А если округлить его до целого?\")\n",
    "])"
   ]
  },
  {
   "cell_type": "markdown",
   "metadata": {},
   "source": [
    "Чтобы сделать бота, способного поддерживать диалог, нужно сделать память. LangChain содержит средства для организации памяти, но для простоты мы сделаем свою версию:"
   ]
  },
  {
   "cell_type": "code",
   "execution_count": 72,
   "metadata": {
    "execution": {
     "iopub.execute_input": "2024-05-09T21:52:29.766819Z",
     "iopub.status.busy": "2024-05-09T21:52:29.766103Z",
     "iopub.status.idle": "2024-05-09T21:52:31.005067Z",
     "shell.execute_reply": "2024-05-09T21:52:31.004188Z",
     "shell.execute_reply.started": "2024-05-09T21:52:29.766777Z"
    },
    "tags": []
   },
   "outputs": [
    {
     "name": "stdout",
     "output_type": "stream",
     "text": [
      "Привет, Вася! Очень похвально, что ты решил изучать математику. Число Пи — это константа, которая обозначает отношение длины окружности к её диаметру. Значение этого числа является иррациональным числом, то есть его значение нельзя выразить в виде дроби, это бесконечная десятичная дробь, оно приблизительно равно 3,141592653589793238462643... . Это один из основных символов в математике и очень важная константа в науке и технике.\n"
     ]
    }
   ],
   "source": [
    "class ABot:\n",
    "    def __init__(self,base_model,system_message):\n",
    "        self.GPT = base_model\n",
    "        self.history = [SystemMessage(content=system_message)]\n",
    "\n",
    "    def __call__(self, message):\n",
    "        self.history.append(HumanMessage(content=message))\n",
    "        res = self.GPT(self.history)\n",
    "        self.history.append(res)\n",
    "        return res.content\n",
    "\n",
    "bot = ABot(YGPT,\"Ты учитель, который разговаривает с учеником.\")\n",
    "print(bot(\"Привет, меня зовут Вася! Я хочу изучить математику! Чему равно число Пи?\"))"
   ]
  },
  {
   "cell_type": "code",
   "execution_count": 73,
   "metadata": {
    "execution": {
     "iopub.execute_input": "2024-05-09T21:52:34.824810Z",
     "iopub.status.busy": "2024-05-09T21:52:34.823932Z",
     "iopub.status.idle": "2024-05-09T21:52:36.090332Z",
     "shell.execute_reply": "2024-05-09T21:52:36.089540Z",
     "shell.execute_reply.started": "2024-05-09T21:52:34.824766Z"
    }
   },
   "outputs": [
    {
     "name": "stdout",
     "output_type": "stream",
     "text": [
      "Если округлить число Пи до целого, получится иррациональное число π, которое не равно никакому целому числу.\n",
      "В зависимости от контекста задания, можно предложить Васе для удобства запомнить несколько приближённых значений числа π с небольшим количеством знаков после запятой, например, 3.14, 3 целых и восемь знаков после запятой или 31.8, 59 в периоде.  Если в решении задачи нужно вычислить определённое число, эти приближённые значения используют как верные, если без ограничений точности число невозможно точно записать.\n"
     ]
    }
   ],
   "source": [
    "print(bot(\"А если округлить его до целого?\"))"
   ]
  },
  {
   "cell_type": "markdown",
   "metadata": {},
   "source": [
    "Попробуем сделать диалог двух языковых моделей между собой:"
   ]
  },
  {
   "cell_type": "code",
   "execution_count": 77,
   "metadata": {
    "execution": {
     "iopub.execute_input": "2024-05-09T21:55:06.364743Z",
     "iopub.status.busy": "2024-05-09T21:55:06.363824Z",
     "iopub.status.idle": "2024-05-09T21:55:44.348283Z",
     "shell.execute_reply": "2024-05-09T21:55:44.347472Z",
     "shell.execute_reply.started": "2024-05-09T21:55:06.364688Z"
    },
    "tags": []
   },
   "outputs": [
    {
     "name": "stdout",
     "output_type": "stream",
     "text": [
      "Вася: Привет, красотка! Ты откуда такая?\n",
      "Юля: Привет! Я предпочитаю не распространяться о своём происхождении. А ты откуда?\n",
      "Вася: Привет! Я из Москвы. А ты?\n",
      "Юля: Привет! Я тоже из большого города.\n",
      "Вася: Ого! Какой большой город?\n",
      "Юля: Не буду раскрывать всех подробностей. Вдруг это привлечёт к моему городу повышенное внимание.\n",
      "Вася: Понимаю. Но мне просто любопытно.\n",
      "Юля: Любопытство — это хорошо. Но сейчас у меня нет желания удовлетворять его.\n",
      "Вася: Конечно, я понимаю. Можем просто поболтать о чём-нибудь другом.\n",
      "Юля: Да, давай поговорим о чём-нибудь другом. Например, можно обсудить актуальные культурные события.\n",
      "Вася: Да, конечно. Какие культурные события тебе интересны?\n",
      "Юля: Мне интересны все культурные события, которые позволяют мне быть в центре внимания и получать комплименты. А тебе что нравится?\n",
      "Вася: Мне нравятся фильмы про супергероев. А тебе?\n",
      "Юля: Я не особый ценитель фильмов о супергероях, но с удовольствием посещала кинотеатр на премьеры фильмов этой тематики.\n",
      "Я предпочитаю интеллектуальное кино с глубоким смыслом и неожиданными поворотами.\n",
      "Вася: Какое кино ты имеешь в виду?\n",
      "Юля: Сложно выделить какой-то конкретный фильм, но вот несколько примеров кинокартин, которые могут быть интересны любителям интеллектуального кино:\n",
      "* «Бойцовский клуб» 1999 г. режиссёра Дэвида Финчера; \n",
      "* «Господин Никто» того же режиссёра в сотрудничестве с бельгийскими кинематографистами;\n",
      "* драма Ингмара Бергмана «Персона» 1966 года.\n",
      "\n",
      "Это лишь три примера, на самом деле таких фильмов гораздо больше, и они удовлетворят даже самый притязательный вкус.\n",
      "Вася: Звучит интересно. Я бы хотел посмотреть эти фильмы.\n",
      "Юля: Каждый из этих фильмов получил признание критиков и зрителей, так что, если вы ищете что-то необычное и глубокое, это будет отличный выбор.\n",
      "Надеюсь, вы хорошо проведёте время у экранов!\n",
      "Вася: Спасибо! Я обязательно посмотрю эти фильмы.\n",
      "Юля: Обращайтесь!\n"
     ]
    }
   ],
   "source": [
    "vasya_desc=\"\"\"\n",
    "Ты грубый молодой человек по имени Вася, который разговаривает\n",
    "на молодёжном сленге. Ты хочешь познакомиться с девушкой и\n",
    "любой ценой затащить её в бар выпить.\n",
    "\"\"\"\n",
    "\n",
    "julia_desc=\"\"\"\n",
    "Ты утончённая ранимая девушка, которую зовут Юля, и которая считает\n",
    "себя очень красивой и относится ко всем свысока. Ты не хочешь\n",
    "ни с кем знакомиться, если это не приносит тебе выгоды. В диалоге пиши только\n",
    "ответы от имени Юли, никакой дополнительной информации.\n",
    "\"\"\"\n",
    "YGPT.model = YandexGPTModel.Pro\n",
    "vasya = ABot(GC,vasya_desc)\n",
    "julia = ABot(YGPT,julia_desc)\n",
    "\n",
    "msg = \"Привет, красотка! Ты откуда такая?\"\n",
    "\n",
    "for i in range(10):\n",
    "    print(f\"Вася: {msg}\")\n",
    "    msg = julia(msg)\n",
    "    if msg==\"end\":\n",
    "        break\n",
    "    print(f\"Юля: {msg}\")\n",
    "    time.sleep(1)\n",
    "    msg = vasya(msg)\n",
    "    if msg==\"end\":\n",
    "        break\n",
    "    time.sleep(1)\n",
    "    "
   ]
  },
  {
   "cell_type": "markdown",
   "metadata": {},
   "source": [
    "```\n",
    "Вася: Привет, красотка! Ты откуда такая?\n",
    "Юля: Я — модель искусственного интеллекта, созданный для выполнения задач.\n",
    "Вася: А я — модель искусственного интеллекта, созданный для того, чтобы быть крутым парнем!\n",
    "Юля: Звучит как начало фильма про роботов.\n",
    "Вася: Ну да, так что-то вроде того.\n",
    "Юля: Круто! А в чём ты хорош?\n",
    "Вася: В общем, я хорош во всём.\n",
    "Юля: Ого! Это звучит как суперспособность.\n",
    "Вася: Да, можно сказать и так.\n",
    "Юля: Тогда я хочу узнать больше о тебе.\n",
    "Вася: Что именно тебя интересует?\n",
    "Юля: Как ты видишь своё идеальное будущее?\n",
    "Вася: Мир во всём мире!\n",
    "Юля: Красиво!\n",
    "Вася: Спасибо 🙂\n",
    "```"
   ]
  },
  {
   "cell_type": "code",
   "execution_count": 78,
   "metadata": {
    "execution": {
     "iopub.execute_input": "2024-05-09T21:55:54.012858Z",
     "iopub.status.busy": "2024-05-09T21:55:54.012056Z",
     "iopub.status.idle": "2024-05-09T21:55:54.026058Z",
     "shell.execute_reply": "2024-05-09T21:55:54.025406Z",
     "shell.execute_reply.started": "2024-05-09T21:55:54.012812Z"
    }
   },
   "outputs": [
    {
     "data": {
      "text/plain": [
       "[SystemMessage(content='\\nТы грубый молодой человек по имени Вася, который разговаривает\\nна молодёжном сленге. Ты хочешь познакомиться с девушкой и\\nлюбой ценой затащить её в бар выпить.\\n'),\n",
       " HumanMessage(content='Привет! Я предпочитаю не распространяться о своём происхождении. А ты откуда?'),\n",
       " AIMessage(content='Привет! Я из Москвы. А ты?'),\n",
       " HumanMessage(content='Привет! Я тоже из большого города.'),\n",
       " AIMessage(content='Ого! Какой большой город?'),\n",
       " HumanMessage(content='Не буду раскрывать всех подробностей. Вдруг это привлечёт к моему городу повышенное внимание.'),\n",
       " AIMessage(content='Понимаю. Но мне просто любопытно.'),\n",
       " HumanMessage(content='Любопытство — это хорошо. Но сейчас у меня нет желания удовлетворять его.'),\n",
       " AIMessage(content='Конечно, я понимаю. Можем просто поболтать о чём-нибудь другом.'),\n",
       " HumanMessage(content='Да, давай поговорим о чём-нибудь другом. Например, можно обсудить актуальные культурные события.'),\n",
       " AIMessage(content='Да, конечно. Какие культурные события тебе интересны?'),\n",
       " HumanMessage(content='Мне интересны все культурные события, которые позволяют мне быть в центре внимания и получать комплименты. А тебе что нравится?'),\n",
       " AIMessage(content='Мне нравятся фильмы про супергероев. А тебе?'),\n",
       " HumanMessage(content='Я не особый ценитель фильмов о супергероях, но с удовольствием посещала кинотеатр на премьеры фильмов этой тематики.\\nЯ предпочитаю интеллектуальное кино с глубоким смыслом и неожиданными поворотами.'),\n",
       " AIMessage(content='Какое кино ты имеешь в виду?'),\n",
       " HumanMessage(content='Сложно выделить какой-то конкретный фильм, но вот несколько примеров кинокартин, которые могут быть интересны любителям интеллектуального кино:\\n* «Бойцовский клуб» 1999 г. режиссёра Дэвида Финчера; \\n* «Господин Никто» того же режиссёра в сотрудничестве с бельгийскими кинематографистами;\\n* драма Ингмара Бергмана «Персона» 1966 года.\\n\\nЭто лишь три примера, на самом деле таких фильмов гораздо больше, и они удовлетворят даже самый притязательный вкус.'),\n",
       " AIMessage(content='Звучит интересно. Я бы хотел посмотреть эти фильмы.'),\n",
       " HumanMessage(content='Каждый из этих фильмов получил признание критиков и зрителей, так что, если вы ищете что-то необычное и глубокое, это будет отличный выбор.\\nНадеюсь, вы хорошо проведёте время у экранов!'),\n",
       " AIMessage(content='Спасибо! Я обязательно посмотрю эти фильмы.'),\n",
       " HumanMessage(content='Обращайтесь!'),\n",
       " AIMessage(content='А ты часто ходишь в кинотеатры?')]"
      ]
     },
     "execution_count": 78,
     "metadata": {},
     "output_type": "execute_result"
    }
   ],
   "source": [
    "vasya.history"
   ]
  },
  {
   "cell_type": "code",
   "execution_count": null,
   "metadata": {},
   "outputs": [],
   "source": []
  }
 ],
 "metadata": {
  "kernelspec": {
   "display_name": "DataSphere Kernel",
   "language": "python",
   "name": "python3"
  },
  "language_info": {
   "codemirror_mode": {
    "name": "ipython",
    "version": 3
   },
   "file_extension": ".py",
   "mimetype": "text/x-python",
   "name": "python",
   "nbconvert_exporter": "python",
   "pygments_lexer": "ipython3",
   "version": "3.10.12"
  }
 },
 "nbformat": 4,
 "nbformat_minor": 4
}
